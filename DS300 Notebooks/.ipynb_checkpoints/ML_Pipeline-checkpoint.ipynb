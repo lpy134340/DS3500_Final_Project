{
 "cells": [
  {
   "cell_type": "markdown",
   "id": "cbe057fd",
   "metadata": {},
   "source": [
    "### Data Loading"
   ]
  },
  {
   "cell_type": "markdown",
   "id": "24557075",
   "metadata": {},
   "source": [
    "### Text Feature Extraction (Peiying)\n",
    "- Ngrams (Forrester did this, looks good!)\n",
    "- Tfidf vectorization"
   ]
  },
  {
   "cell_type": "code",
   "execution_count": null,
   "id": "8bc98d77",
   "metadata": {},
   "outputs": [],
   "source": []
  },
  {
   "cell_type": "markdown",
   "id": "9bba9140",
   "metadata": {},
   "source": [
    "### ML Pipeline (Peiying)\n",
    "- Train test split\n",
    "- Pick a few algorithms\n",
    "- Run on reduced dataset\n",
    "- Hyperparameter tuning?\n",
    "- Run best performing algo on full dataset\n",
    "- Extract Most influential ngram features for each genre/category (Peiying)"
   ]
  },
  {
   "cell_type": "code",
   "execution_count": null,
   "id": "3b848288",
   "metadata": {},
   "outputs": [],
   "source": []
  }
 ],
 "metadata": {
  "kernelspec": {
   "display_name": "Python 3",
   "language": "python",
   "name": "python3"
  },
  "language_info": {
   "codemirror_mode": {
    "name": "ipython",
    "version": 3
   },
   "file_extension": ".py",
   "mimetype": "text/x-python",
   "name": "python",
   "nbconvert_exporter": "python",
   "pygments_lexer": "ipython3",
   "version": "3.8.8"
  }
 },
 "nbformat": 4,
 "nbformat_minor": 5
}
