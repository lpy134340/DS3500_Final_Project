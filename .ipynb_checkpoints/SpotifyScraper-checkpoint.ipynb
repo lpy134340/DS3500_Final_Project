{
 "cells": [
  {
   "cell_type": "code",
   "execution_count": 1,
   "metadata": {},
   "outputs": [],
   "source": [
    "import spotipy\n",
    "from spotipy.oauth2 import SpotifyOAuth\n",
    "import json\n",
    "import os\n",
    "from tqdm import tqdm"
   ]
  },
  {
   "cell_type": "code",
   "execution_count": 2,
   "metadata": {},
   "outputs": [],
   "source": [
    "with open('client_secrets.json') as f:\n",
    "    secrets = json.load(f)\n",
    "\n",
    "os.environ['SPOTIPY_CLIENT_ID'] = secrets[\"Client_ID\"]\n",
    "os.environ['SPOTIPY_CLIENT_SECRET'] = secrets[\"Secret\"]\n",
    "os.environ['SPOTIPY_REDIRECT_URI'] = secrets[\"URL\"]"
   ]
  },
  {
   "cell_type": "code",
   "execution_count": 3,
   "metadata": {},
   "outputs": [],
   "source": [
    "sp = spotipy.Spotify(auth_manager=SpotifyOAuth())"
   ]
  },
  {
   "cell_type": "code",
   "execution_count": 5,
   "metadata": {
    "scrolled": true
   },
   "outputs": [
    {
     "data": {
      "text/plain": [
       "{'genres': ['acoustic',\n",
       "  'afrobeat',\n",
       "  'alt-rock',\n",
       "  'alternative',\n",
       "  'ambient',\n",
       "  'anime',\n",
       "  'black-metal',\n",
       "  'bluegrass',\n",
       "  'blues',\n",
       "  'bossanova',\n",
       "  'brazil',\n",
       "  'breakbeat',\n",
       "  'british',\n",
       "  'cantopop',\n",
       "  'chicago-house',\n",
       "  'children',\n",
       "  'chill',\n",
       "  'classical',\n",
       "  'club',\n",
       "  'comedy',\n",
       "  'country',\n",
       "  'dance',\n",
       "  'dancehall',\n",
       "  'death-metal',\n",
       "  'deep-house',\n",
       "  'detroit-techno',\n",
       "  'disco',\n",
       "  'disney',\n",
       "  'drum-and-bass',\n",
       "  'dub',\n",
       "  'dubstep',\n",
       "  'edm',\n",
       "  'electro',\n",
       "  'electronic',\n",
       "  'emo',\n",
       "  'folk',\n",
       "  'forro',\n",
       "  'french',\n",
       "  'funk',\n",
       "  'garage',\n",
       "  'german',\n",
       "  'gospel',\n",
       "  'goth',\n",
       "  'grindcore',\n",
       "  'groove',\n",
       "  'grunge',\n",
       "  'guitar',\n",
       "  'happy',\n",
       "  'hard-rock',\n",
       "  'hardcore',\n",
       "  'hardstyle',\n",
       "  'heavy-metal',\n",
       "  'hip-hop',\n",
       "  'holidays',\n",
       "  'honky-tonk',\n",
       "  'house',\n",
       "  'idm',\n",
       "  'indian',\n",
       "  'indie',\n",
       "  'indie-pop',\n",
       "  'industrial',\n",
       "  'iranian',\n",
       "  'j-dance',\n",
       "  'j-idol',\n",
       "  'j-pop',\n",
       "  'j-rock',\n",
       "  'jazz',\n",
       "  'k-pop',\n",
       "  'kids',\n",
       "  'latin',\n",
       "  'latino',\n",
       "  'malay',\n",
       "  'mandopop',\n",
       "  'metal',\n",
       "  'metal-misc',\n",
       "  'metalcore',\n",
       "  'minimal-techno',\n",
       "  'movies',\n",
       "  'mpb',\n",
       "  'new-age',\n",
       "  'new-release',\n",
       "  'opera',\n",
       "  'pagode',\n",
       "  'party',\n",
       "  'philippines-opm',\n",
       "  'piano',\n",
       "  'pop',\n",
       "  'pop-film',\n",
       "  'post-dubstep',\n",
       "  'power-pop',\n",
       "  'progressive-house',\n",
       "  'psych-rock',\n",
       "  'punk',\n",
       "  'punk-rock',\n",
       "  'r-n-b',\n",
       "  'rainy-day',\n",
       "  'reggae',\n",
       "  'reggaeton',\n",
       "  'road-trip',\n",
       "  'rock',\n",
       "  'rock-n-roll',\n",
       "  'rockabilly',\n",
       "  'romance',\n",
       "  'sad',\n",
       "  'salsa',\n",
       "  'samba',\n",
       "  'sertanejo',\n",
       "  'show-tunes',\n",
       "  'singer-songwriter',\n",
       "  'ska',\n",
       "  'sleep',\n",
       "  'songwriter',\n",
       "  'soul',\n",
       "  'soundtracks',\n",
       "  'spanish',\n",
       "  'study',\n",
       "  'summer',\n",
       "  'swedish',\n",
       "  'synth-pop',\n",
       "  'tango',\n",
       "  'techno',\n",
       "  'trance',\n",
       "  'trip-hop',\n",
       "  'turkish',\n",
       "  'work-out',\n",
       "  'world-music']}"
      ]
     },
     "execution_count": 5,
     "metadata": {},
     "output_type": "execute_result"
    }
   ],
   "source": [
    "genres = sp.recommendation_genre_seeds()\n",
    "genres"
   ]
  },
  {
   "cell_type": "code",
   "execution_count": 8,
   "metadata": {},
   "outputs": [
    {
     "data": {
      "text/plain": [
       "126"
      ]
     },
     "execution_count": 8,
     "metadata": {},
     "output_type": "execute_result"
    }
   ],
   "source": [
    "len(genres[\"genres\"])"
   ]
  },
  {
   "cell_type": "code",
   "execution_count": 9,
   "metadata": {
    "collapsed": true
   },
   "outputs": [
    {
     "data": {
      "text/plain": [
       "{'categories': {'href': 'https://api.spotify.com/v1/browse/categories?offset=0&limit=20',\n",
       "  'items': [{'href': 'https://api.spotify.com/v1/browse/categories/toplists',\n",
       "    'icons': [{'height': 275,\n",
       "      'url': 'https://t.scdn.co/media/derived/toplists_11160599e6a04ac5d6f2757f5511778f_0_0_275_275.jpg',\n",
       "      'width': 275}],\n",
       "    'id': 'toplists',\n",
       "    'name': 'Top Lists'},\n",
       "   {'href': 'https://api.spotify.com/v1/browse/categories/pop',\n",
       "    'icons': [{'height': 274,\n",
       "      'url': 'https://t.scdn.co/media/derived/pop-274x274_447148649685019f5e2a03a39e78ba52_0_0_274_274.jpg',\n",
       "      'width': 274}],\n",
       "    'id': 'pop',\n",
       "    'name': 'Pop'},\n",
       "   {'href': 'https://api.spotify.com/v1/browse/categories/0JQ5DAqbMKFPw634sFwguI',\n",
       "    'icons': [{'height': None,\n",
       "      'url': 'https://t.scdn.co/images/084155aeaa724ea1bd393a017d67b709',\n",
       "      'width': None}],\n",
       "    'id': '0JQ5DAqbMKFPw634sFwguI',\n",
       "    'name': 'EQUAL'},\n",
       "   {'href': 'https://api.spotify.com/v1/browse/categories/mood',\n",
       "    'icons': [{'height': 274,\n",
       "      'url': 'https://t.scdn.co/media/original/mood-274x274_976986a31ac8c49794cbdc7246fd5ad7_274x274.jpg',\n",
       "      'width': 274}],\n",
       "    'id': 'mood',\n",
       "    'name': 'Mood'},\n",
       "   {'href': 'https://api.spotify.com/v1/browse/categories/decades',\n",
       "    'icons': [{'height': None,\n",
       "      'url': 'https://t.scdn.co/images/b611cf5145764c64b80e91ccd5f357c8',\n",
       "      'width': None}],\n",
       "    'id': 'decades',\n",
       "    'name': 'Decades'},\n",
       "   {'href': 'https://api.spotify.com/v1/browse/categories/hiphop',\n",
       "    'icons': [{'height': 274,\n",
       "      'url': 'https://t.scdn.co/media/original/hip-274_0a661854d61e29eace5fe63f73495e68_274x274.jpg',\n",
       "      'width': 274}],\n",
       "    'id': 'hiphop',\n",
       "    'name': 'Hip-Hop'},\n",
       "   {'href': 'https://api.spotify.com/v1/browse/categories/in_the_car',\n",
       "    'icons': [{'height': None,\n",
       "      'url': 'https://t.scdn.co/images/57017d435c344bb28efba325b7c9e7c6.jpeg',\n",
       "      'width': None}],\n",
       "    'id': 'in_the_car',\n",
       "    'name': 'In the car'},\n",
       "   {'href': 'https://api.spotify.com/v1/browse/categories/gaming',\n",
       "    'icons': [{'height': None,\n",
       "      'url': 'https://t.scdn.co/images/0d39395309ba47838ef12ce987f19d16.jpeg',\n",
       "      'width': None}],\n",
       "    'id': 'gaming',\n",
       "    'name': 'Gaming'},\n",
       "   {'href': 'https://api.spotify.com/v1/browse/categories/wellness',\n",
       "    'icons': [{'height': None,\n",
       "      'url': 'https://t.scdn.co/images/3710b68657574bc79df14bd74629e5ac',\n",
       "      'width': None}],\n",
       "    'id': 'wellness',\n",
       "    'name': 'Wellness'},\n",
       "   {'href': 'https://api.spotify.com/v1/browse/categories/workout',\n",
       "    'icons': [{'height': None,\n",
       "      'url': 'https://t.scdn.co/media/links/workout-274x274.jpg',\n",
       "      'width': None}],\n",
       "    'id': 'workout',\n",
       "    'name': 'Workout'},\n",
       "   {'href': 'https://api.spotify.com/v1/browse/categories/chill',\n",
       "    'icons': [{'height': 274,\n",
       "      'url': 'https://t.scdn.co/media/derived/chill-274x274_4c46374f007813dd10b37e8d8fd35b4b_0_0_274_274.jpg',\n",
       "      'width': 274}],\n",
       "    'id': 'chill',\n",
       "    'name': 'Chill'},\n",
       "   {'href': 'https://api.spotify.com/v1/browse/categories/focus',\n",
       "    'icons': [{'height': 274,\n",
       "      'url': 'https://t.scdn.co/media/original/genre-images-square-274x274_5e50d72b846a198fcd2ca9b3aef5f0c8_274x274.jpg',\n",
       "      'width': 274}],\n",
       "    'id': 'focus',\n",
       "    'name': 'Focus'},\n",
       "   {'href': 'https://api.spotify.com/v1/browse/categories/sleep',\n",
       "    'icons': [{'height': 274,\n",
       "      'url': 'https://t.scdn.co/media/derived/sleep-274x274_0d4f836af8fab7bf31526968073e671c_0_0_274_274.jpg',\n",
       "      'width': 274}],\n",
       "    'id': 'sleep',\n",
       "    'name': 'Sleep'},\n",
       "   {'href': 'https://api.spotify.com/v1/browse/categories/party',\n",
       "    'icons': [{'height': None,\n",
       "      'url': 'https://t.scdn.co/images/7ee6530d5b3c4acc9a0957046bf11d63',\n",
       "      'width': None}],\n",
       "    'id': 'party',\n",
       "    'name': 'Party'},\n",
       "   {'href': 'https://api.spotify.com/v1/browse/categories/indie_alt',\n",
       "    'icons': [{'height': None,\n",
       "      'url': 'https://t.scdn.co/images/fe06caf056474bc58862591cd60b57fc.jpeg',\n",
       "      'width': None}],\n",
       "    'id': 'indie_alt',\n",
       "    'name': 'Indie'},\n",
       "   {'href': 'https://api.spotify.com/v1/browse/categories/metal',\n",
       "    'icons': [{'height': 274,\n",
       "      'url': 'https://t.scdn.co/media/original/metal_27c921443fd0a5ba95b1b2c2ae654b2b_274x274.jpg',\n",
       "      'width': 274}],\n",
       "    'id': 'metal',\n",
       "    'name': 'Metal'},\n",
       "   {'href': 'https://api.spotify.com/v1/browse/categories/rock',\n",
       "    'icons': [{'height': 274,\n",
       "      'url': 'https://t.scdn.co/media/derived/rock_9ce79e0a4ef901bbd10494f5b855d3cc_0_0_274_274.jpg',\n",
       "      'width': 274}],\n",
       "    'id': 'rock',\n",
       "    'name': 'Rock'},\n",
       "   {'href': 'https://api.spotify.com/v1/browse/categories/edm_dance',\n",
       "    'icons': [{'height': 274,\n",
       "      'url': 'https://t.scdn.co/media/derived/edm-274x274_0ef612604200a9c14995432994455a6d_0_0_274_274.jpg',\n",
       "      'width': 274}],\n",
       "    'id': 'edm_dance',\n",
       "    'name': 'Dance/Electronic'},\n",
       "   {'href': 'https://api.spotify.com/v1/browse/categories/dinner',\n",
       "    'icons': [{'height': 274,\n",
       "      'url': 'https://t.scdn.co/media/original/dinner_1b6506abba0ba52c54e6d695c8571078_274x274.jpg',\n",
       "      'width': 274}],\n",
       "    'id': 'dinner',\n",
       "    'name': 'Cooking & Dining'},\n",
       "   {'href': 'https://api.spotify.com/v1/browse/categories/jazz',\n",
       "    'icons': [{'height': None,\n",
       "      'url': 'https://t.scdn.co/images/568f37f1cab54136939d63bd1f59d40c',\n",
       "      'width': None}],\n",
       "    'id': 'jazz',\n",
       "    'name': 'Jazz'}],\n",
       "  'limit': 20,\n",
       "  'next': 'https://api.spotify.com/v1/browse/categories?offset=20&limit=20',\n",
       "  'offset': 0,\n",
       "  'previous': None,\n",
       "  'total': 40}}"
      ]
     },
     "execution_count": 9,
     "metadata": {},
     "output_type": "execute_result"
    }
   ],
   "source": [
    "categories = sp.categories()\n",
    "categories"
   ]
  },
  {
   "cell_type": "code",
   "execution_count": 22,
   "metadata": {},
   "outputs": [
    {
     "data": {
      "text/plain": [
       "(['Top Lists',\n",
       "  'Pop',\n",
       "  'EQUAL',\n",
       "  'Mood',\n",
       "  'Decades',\n",
       "  'Hip-Hop',\n",
       "  'In the car',\n",
       "  'Gaming',\n",
       "  'Wellness',\n",
       "  'Workout',\n",
       "  'Chill',\n",
       "  'Focus',\n",
       "  'Sleep',\n",
       "  'Party',\n",
       "  'Indie',\n",
       "  'Metal',\n",
       "  'Rock',\n",
       "  'Dance/Electronic',\n",
       "  'Cooking & Dining',\n",
       "  'Jazz'],\n",
       " 20)"
      ]
     },
     "execution_count": 22,
     "metadata": {},
     "output_type": "execute_result"
    }
   ],
   "source": [
    "cat_names = [i['name'] for i in categories['categories']['items']]\n",
    "cat_names, len(cat_names)"
   ]
  },
  {
   "cell_type": "code",
   "execution_count": 28,
   "metadata": {
    "collapsed": true
   },
   "outputs": [
    {
     "name": "stdout",
     "output_type": "stream",
     "text": [
      "{'tracks': [{'album': {'album_type': 'ALBUM', 'artists': [{'external_urls': {'spotify': 'https://open.spotify.com/artist/4LEiUm1SRbFMgfqnQTwUbQ'}, 'href': 'https://api.spotify.com/v1/artists/4LEiUm1SRbFMgfqnQTwUbQ', 'id': '4LEiUm1SRbFMgfqnQTwUbQ', 'name': 'Bon Iver', 'type': 'artist', 'uri': 'spotify:artist:4LEiUm1SRbFMgfqnQTwUbQ'}], 'available_markets': [], 'external_urls': {'spotify': 'https://open.spotify.com/album/2wBGb1zLSWrmiOdinWE831'}, 'href': 'https://api.spotify.com/v1/albums/2wBGb1zLSWrmiOdinWE831', 'id': '2wBGb1zLSWrmiOdinWE831', 'images': [{'height': 640, 'url': 'https://i.scdn.co/image/ab67616d0000b273b24d0c9c4497ac030317b6ec', 'width': 640}, {'height': 300, 'url': 'https://i.scdn.co/image/ab67616d00001e02b24d0c9c4497ac030317b6ec', 'width': 300}, {'height': 64, 'url': 'https://i.scdn.co/image/ab67616d00004851b24d0c9c4497ac030317b6ec', 'width': 64}], 'name': 'For Emma, Forever Ago', 'release_date': '2007-07-08', 'release_date_precision': 'day', 'total_tracks': 10, 'type': 'album', 'uri': 'spotify:album:2wBGb1zLSWrmiOdinWE831'}, 'artists': [{'external_urls': {'spotify': 'https://open.spotify.com/artist/4LEiUm1SRbFMgfqnQTwUbQ'}, 'href': 'https://api.spotify.com/v1/artists/4LEiUm1SRbFMgfqnQTwUbQ', 'id': '4LEiUm1SRbFMgfqnQTwUbQ', 'name': 'Bon Iver', 'type': 'artist', 'uri': 'spotify:artist:4LEiUm1SRbFMgfqnQTwUbQ'}], 'available_markets': [], 'disc_number': 1, 'duration_ms': 402266, 'explicit': False, 'external_ids': {'isrc': 'US38Y0811509'}, 'external_urls': {'spotify': 'https://open.spotify.com/track/4dHEQ1W1jRmNjjB0S7vB8V'}, 'href': 'https://api.spotify.com/v1/tracks/4dHEQ1W1jRmNjjB0S7vB8V', 'id': '4dHEQ1W1jRmNjjB0S7vB8V', 'is_local': False, 'name': 're:stacks', 'popularity': 0, 'preview_url': None, 'track_number': 9, 'type': 'track', 'uri': 'spotify:track:4dHEQ1W1jRmNjjB0S7vB8V'}, {'album': {'album_type': 'SINGLE', 'artists': [{'external_urls': {'spotify': 'https://open.spotify.com/artist/1g1yxsNVPhMUl9GrMjEb2o'}, 'href': 'https://api.spotify.com/v1/artists/1g1yxsNVPhMUl9GrMjEb2o', 'id': '1g1yxsNVPhMUl9GrMjEb2o', 'name': \"Plain White T's\", 'type': 'artist', 'uri': 'spotify:artist:1g1yxsNVPhMUl9GrMjEb2o'}], 'available_markets': [], 'external_urls': {'spotify': 'https://open.spotify.com/album/56YDXVawuST4GQEnEfd16r'}, 'href': 'https://api.spotify.com/v1/albums/56YDXVawuST4GQEnEfd16r', 'id': '56YDXVawuST4GQEnEfd16r', 'images': [{'height': 640, 'url': 'https://i.scdn.co/image/ab67616d0000b2732254fbe6014d8e6298b432a1', 'width': 640}, {'height': 300, 'url': 'https://i.scdn.co/image/ab67616d00001e022254fbe6014d8e6298b432a1', 'width': 300}, {'height': 64, 'url': 'https://i.scdn.co/image/ab67616d000048512254fbe6014d8e6298b432a1', 'width': 64}], 'name': 'Hey There Delilah', 'release_date': '2007-01-01', 'release_date_precision': 'day', 'total_tracks': 4, 'type': 'album', 'uri': 'spotify:album:56YDXVawuST4GQEnEfd16r'}, 'artists': [{'external_urls': {'spotify': 'https://open.spotify.com/artist/1g1yxsNVPhMUl9GrMjEb2o'}, 'href': 'https://api.spotify.com/v1/artists/1g1yxsNVPhMUl9GrMjEb2o', 'id': '1g1yxsNVPhMUl9GrMjEb2o', 'name': \"Plain White T's\", 'type': 'artist', 'uri': 'spotify:artist:1g1yxsNVPhMUl9GrMjEb2o'}], 'available_markets': [], 'disc_number': 1, 'duration_ms': 233626, 'explicit': False, 'external_ids': {'isrc': 'USHR10722838'}, 'external_urls': {'spotify': 'https://open.spotify.com/track/7z7fquRFQFXt4Dj7ouWETq'}, 'href': 'https://api.spotify.com/v1/tracks/7z7fquRFQFXt4Dj7ouWETq', 'id': '7z7fquRFQFXt4Dj7ouWETq', 'is_local': False, 'name': 'Hey There Delilah', 'popularity': 0, 'preview_url': None, 'track_number': 2, 'type': 'track', 'uri': 'spotify:track:7z7fquRFQFXt4Dj7ouWETq'}, {'album': {'album_type': 'ALBUM', 'artists': [{'external_urls': {'spotify': 'https://open.spotify.com/artist/6J7rw7NELJUCThPbAfyLIE'}, 'href': 'https://api.spotify.com/v1/artists/6J7rw7NELJUCThPbAfyLIE', 'id': '6J7rw7NELJUCThPbAfyLIE', 'name': 'The Civil Wars', 'type': 'artist', 'uri': 'spotify:artist:6J7rw7NELJUCThPbAfyLIE'}], 'available_markets': [], 'external_urls': {'spotify': 'https://open.spotify.com/album/6yCzOeJHgOnJBP3K6IDPIV'}, 'href': 'https://api.spotify.com/v1/albums/6yCzOeJHgOnJBP3K6IDPIV', 'id': '6yCzOeJHgOnJBP3K6IDPIV', 'images': [{'height': 640, 'url': 'https://i.scdn.co/image/ab67616d0000b2735e43df674e251ab16cae8031', 'width': 640}, {'height': 300, 'url': 'https://i.scdn.co/image/ab67616d00001e025e43df674e251ab16cae8031', 'width': 300}, {'height': 64, 'url': 'https://i.scdn.co/image/ab67616d000048515e43df674e251ab16cae8031', 'width': 64}], 'name': 'Barton Hollow', 'release_date': '2011-02-01', 'release_date_precision': 'day', 'total_tracks': 14, 'type': 'album', 'uri': 'spotify:album:6yCzOeJHgOnJBP3K6IDPIV'}, 'artists': [{'external_urls': {'spotify': 'https://open.spotify.com/artist/6J7rw7NELJUCThPbAfyLIE'}, 'href': 'https://api.spotify.com/v1/artists/6J7rw7NELJUCThPbAfyLIE', 'id': '6J7rw7NELJUCThPbAfyLIE', 'name': 'The Civil Wars', 'type': 'artist', 'uri': 'spotify:artist:6J7rw7NELJUCThPbAfyLIE'}], 'available_markets': [], 'disc_number': 1, 'duration_ms': 205040, 'explicit': False, 'external_ids': {'isrc': 'USQX91301429'}, 'external_urls': {'spotify': 'https://open.spotify.com/track/6IN5LJsJQNPwzkytnTtrJC'}, 'href': 'https://api.spotify.com/v1/tracks/6IN5LJsJQNPwzkytnTtrJC', 'id': '6IN5LJsJQNPwzkytnTtrJC', 'is_local': False, 'name': 'The Violet Hour', 'popularity': 0, 'preview_url': None, 'track_number': 8, 'type': 'track', 'uri': 'spotify:track:6IN5LJsJQNPwzkytnTtrJC'}, {'album': {'album_type': 'ALBUM', 'artists': [{'external_urls': {'spotify': 'https://open.spotify.com/artist/7CQwac16i1W5ej8YpuL3dv'}, 'href': 'https://api.spotify.com/v1/artists/7CQwac16i1W5ej8YpuL3dv', 'id': '7CQwac16i1W5ej8YpuL3dv', 'name': 'Boyce Avenue', 'type': 'artist', 'uri': 'spotify:artist:7CQwac16i1W5ej8YpuL3dv'}], 'available_markets': [], 'external_urls': {'spotify': 'https://open.spotify.com/album/6rH4qVgzyj4yHT72M9WWl9'}, 'href': 'https://api.spotify.com/v1/albums/6rH4qVgzyj4yHT72M9WWl9', 'id': '6rH4qVgzyj4yHT72M9WWl9', 'images': [{'height': 640, 'url': 'https://i.scdn.co/image/ab67616d0000b273ce3a87ba2bda798f8a95d0b4', 'width': 640}, {'height': 300, 'url': 'https://i.scdn.co/image/ab67616d00001e02ce3a87ba2bda798f8a95d0b4', 'width': 300}, {'height': 64, 'url': 'https://i.scdn.co/image/ab67616d00004851ce3a87ba2bda798f8a95d0b4', 'width': 64}], 'name': 'Influential Sessions', 'release_date': '2009-07-14', 'release_date_precision': 'day', 'total_tracks': 7, 'type': 'album', 'uri': 'spotify:album:6rH4qVgzyj4yHT72M9WWl9'}, 'artists': [{'external_urls': {'spotify': 'https://open.spotify.com/artist/7CQwac16i1W5ej8YpuL3dv'}, 'href': 'https://api.spotify.com/v1/artists/7CQwac16i1W5ej8YpuL3dv', 'id': '7CQwac16i1W5ej8YpuL3dv', 'name': 'Boyce Avenue', 'type': 'artist', 'uri': 'spotify:artist:7CQwac16i1W5ej8YpuL3dv'}], 'available_markets': [], 'disc_number': 1, 'duration_ms': 309000, 'explicit': False, 'external_ids': {'isrc': 'US-M95-09-01001'}, 'external_urls': {'spotify': 'https://open.spotify.com/track/7HwnHKItKX5kS1veNpxVko'}, 'href': 'https://api.spotify.com/v1/tracks/7HwnHKItKX5kS1veNpxVko', 'id': '7HwnHKItKX5kS1veNpxVko', 'is_local': False, 'name': 'Crash Into Me', 'popularity': 0, 'preview_url': None, 'track_number': 1, 'type': 'track', 'uri': 'spotify:track:7HwnHKItKX5kS1veNpxVko'}, {'album': {'album_type': 'ALBUM', 'artists': [{'external_urls': {'spotify': 'https://open.spotify.com/artist/7KMqksf0UMdyA0UCf4R3ux'}, 'href': 'https://api.spotify.com/v1/artists/7KMqksf0UMdyA0UCf4R3ux', 'id': '7KMqksf0UMdyA0UCf4R3ux', 'name': 'James Blunt', 'type': 'artist', 'uri': 'spotify:artist:7KMqksf0UMdyA0UCf4R3ux'}], 'available_markets': ['AD', 'AE', 'AG', 'AL', 'AM', 'AO', 'AR', 'AT', 'AZ', 'BA', 'BB', 'BD', 'BE', 'BF', 'BG', 'BH', 'BI', 'BJ', 'BN', 'BO', 'BR', 'BS', 'BT', 'BW', 'BY', 'BZ', 'CD', 'CG', 'CH', 'CI', 'CL', 'CM', 'CO', 'CR', 'CV', 'CW', 'CY', 'CZ', 'DE', 'DJ', 'DK', 'DM', 'DO', 'DZ', 'EC', 'EE', 'EG', 'ES', 'FI', 'FJ', 'FM', 'FR', 'GA', 'GB', 'GD', 'GE', 'GH', 'GM', 'GN', 'GQ', 'GR', 'GT', 'GW', 'GY', 'HK', 'HN', 'HR', 'HT', 'HU', 'ID', 'IE', 'IL', 'IN', 'IQ', 'IS', 'IT', 'JM', 'JO', 'JP', 'KE', 'KG', 'KH', 'KI', 'KM', 'KN', 'KR', 'KW', 'KZ', 'LA', 'LB', 'LC', 'LI', 'LK', 'LR', 'LS', 'LT', 'LU', 'LV', 'LY', 'MA', 'MC', 'MD', 'ME', 'MG', 'MH', 'MK', 'ML', 'MN', 'MO', 'MR', 'MT', 'MU', 'MV', 'MW', 'MX', 'MY', 'MZ', 'NA', 'NE', 'NG', 'NI', 'NL', 'NO', 'NP', 'NR', 'NZ', 'OM', 'PA', 'PE', 'PG', 'PH', 'PK', 'PL', 'PS', 'PT', 'PW', 'PY', 'QA', 'RO', 'RS', 'RU', 'RW', 'SA', 'SB', 'SC', 'SE', 'SG', 'SI', 'SK', 'SL', 'SM', 'SN', 'SR', 'ST', 'SV', 'SZ', 'TD', 'TG', 'TH', 'TJ', 'TL', 'TN', 'TO', 'TR', 'TT', 'TV', 'TW', 'TZ', 'UA', 'UG', 'US', 'UY', 'UZ', 'VC', 'VE', 'VN', 'VU', 'WS', 'XK', 'ZA', 'ZM', 'ZW'], 'external_urls': {'spotify': 'https://open.spotify.com/album/1ekaxA9Q5GzUPCepx4wzMF'}, 'href': 'https://api.spotify.com/v1/albums/1ekaxA9Q5GzUPCepx4wzMF', 'id': '1ekaxA9Q5GzUPCepx4wzMF', 'images': [{'height': 640, 'url': 'https://i.scdn.co/image/ab67616d0000b273105f043a4f470cf58cc01ccf', 'width': 640}, {'height': 300, 'url': 'https://i.scdn.co/image/ab67616d00001e02105f043a4f470cf58cc01ccf', 'width': 300}, {'height': 64, 'url': 'https://i.scdn.co/image/ab67616d00004851105f043a4f470cf58cc01ccf', 'width': 64}], 'name': 'Back to Bedlam', 'release_date': '2005-08-08', 'release_date_precision': 'day', 'total_tracks': 10, 'type': 'album', 'uri': 'spotify:album:1ekaxA9Q5GzUPCepx4wzMF'}, 'artists': [{'external_urls': {'spotify': 'https://open.spotify.com/artist/7KMqksf0UMdyA0UCf4R3ux'}, 'href': 'https://api.spotify.com/v1/artists/7KMqksf0UMdyA0UCf4R3ux', 'id': '7KMqksf0UMdyA0UCf4R3ux', 'name': 'James Blunt', 'type': 'artist', 'uri': 'spotify:artist:7KMqksf0UMdyA0UCf4R3ux'}], 'available_markets': ['AD', 'AE', 'AG', 'AL', 'AM', 'AO', 'AR', 'AT', 'AZ', 'BA', 'BB', 'BD', 'BE', 'BF', 'BG', 'BH', 'BI', 'BJ', 'BN', 'BO', 'BR', 'BS', 'BT', 'BW', 'BY', 'BZ', 'CD', 'CG', 'CH', 'CI', 'CL', 'CM', 'CO', 'CR', 'CV', 'CW', 'CY', 'CZ', 'DE', 'DJ', 'DK', 'DM', 'DO', 'DZ', 'EC', 'EE', 'EG', 'ES', 'FI', 'FJ', 'FM', 'FR', 'GA', 'GB', 'GD', 'GE', 'GH', 'GM', 'GN', 'GQ', 'GR', 'GT', 'GW', 'GY', 'HK', 'HN', 'HR', 'HT', 'HU', 'ID', 'IE', 'IL', 'IN', 'IQ', 'IS', 'IT', 'JM', 'JO', 'JP', 'KE', 'KG', 'KH', 'KI', 'KM', 'KN', 'KR', 'KW', 'KZ', 'LA', 'LB', 'LC', 'LI', 'LK', 'LR', 'LS', 'LT', 'LU', 'LV', 'LY', 'MA', 'MC', 'MD', 'ME', 'MG', 'MH', 'MK', 'ML', 'MN', 'MO', 'MR', 'MT', 'MU', 'MV', 'MW', 'MX', 'MY', 'MZ', 'NA', 'NE', 'NG', 'NI', 'NL', 'NO', 'NP', 'NR', 'NZ', 'OM', 'PA', 'PE', 'PG', 'PH', 'PK', 'PL', 'PS', 'PT', 'PW', 'PY', 'QA', 'RO', 'RS', 'RU', 'RW', 'SA', 'SB', 'SC', 'SE', 'SG', 'SI', 'SK', 'SL', 'SM', 'SN', 'SR', 'ST', 'SV', 'SZ', 'TD', 'TG', 'TH', 'TJ', 'TL', 'TN', 'TO', 'TR', 'TT', 'TV', 'TW', 'TZ', 'UA', 'UG', 'US', 'UY', 'UZ', 'VC', 'VE', 'VN', 'VU', 'WS', 'XK', 'ZA', 'ZM', 'ZW'], 'disc_number': 1, 'duration_ms': 243280, 'explicit': False, 'external_ids': {'isrc': 'USAT20401587'}, 'external_urls': {'spotify': 'https://open.spotify.com/track/13yEuYLJYxPCLJR0KNOqpk'}, 'href': 'https://api.spotify.com/v1/tracks/13yEuYLJYxPCLJR0KNOqpk', 'id': '13yEuYLJYxPCLJR0KNOqpk', 'is_local': False, 'name': 'High', 'popularity': 60, 'preview_url': 'https://p.scdn.co/mp3-preview/a702d4722ea0a78aefa6c7f3c217b6e7e7fab40b?cid=5b12725d46944b58902380a594fcb6bb', 'track_number': 1, 'type': 'track', 'uri': 'spotify:track:13yEuYLJYxPCLJR0KNOqpk'}, {'album': {'album_type': 'ALBUM', 'artists': [{'external_urls': {'spotify': 'https://open.spotify.com/artist/4tvKz56Tr39bkhcQUTO0Xr'}, 'href': 'https://api.spotify.com/v1/artists/4tvKz56Tr39bkhcQUTO0Xr', 'id': '4tvKz56Tr39bkhcQUTO0Xr', 'name': 'Angus & Julia Stone', 'type': 'artist', 'uri': 'spotify:artist:4tvKz56Tr39bkhcQUTO0Xr'}], 'available_markets': [], 'external_urls': {'spotify': 'https://open.spotify.com/album/2sh4a6EGHXIny8IfYdlsrq'}, 'href': 'https://api.spotify.com/v1/albums/2sh4a6EGHXIny8IfYdlsrq', 'id': '2sh4a6EGHXIny8IfYdlsrq', 'images': [{'height': 640, 'url': 'https://i.scdn.co/image/ab67616d0000b27364f5ca59e44d6f21f98fe993', 'width': 640}, {'height': 300, 'url': 'https://i.scdn.co/image/ab67616d00001e0264f5ca59e44d6f21f98fe993', 'width': 300}, {'height': 64, 'url': 'https://i.scdn.co/image/ab67616d0000485164f5ca59e44d6f21f98fe993', 'width': 64}], 'name': 'Heart Full of Wine', 'release_date': '2007-03-04', 'release_date_precision': 'day', 'total_tracks': 12, 'type': 'album', 'uri': 'spotify:album:2sh4a6EGHXIny8IfYdlsrq'}, 'artists': [{'external_urls': {'spotify': 'https://open.spotify.com/artist/4tvKz56Tr39bkhcQUTO0Xr'}, 'href': 'https://api.spotify.com/v1/artists/4tvKz56Tr39bkhcQUTO0Xr', 'id': '4tvKz56Tr39bkhcQUTO0Xr', 'name': 'Angus & Julia Stone', 'type': 'artist', 'uri': 'spotify:artist:4tvKz56Tr39bkhcQUTO0Xr'}], 'available_markets': [], 'disc_number': 1, 'duration_ms': 225280, 'explicit': False, 'external_ids': {'isrc': 'GBBPF0601528'}, 'external_urls': {'spotify': 'https://open.spotify.com/track/5E3jbxmonQ370P93Qdfy5Y'}, 'href': 'https://api.spotify.com/v1/tracks/5E3jbxmonQ370P93Qdfy5Y', 'id': '5E3jbxmonQ370P93Qdfy5Y', 'is_local': False, 'name': 'Paper Aeroplane', 'popularity': 0, 'preview_url': None, 'track_number': 10, 'type': 'track', 'uri': 'spotify:track:5E3jbxmonQ370P93Qdfy5Y'}, {'album': {'album_type': 'SINGLE', 'artists': [{'external_urls': {'spotify': 'https://open.spotify.com/artist/6meTcQ79DrfkIuSLPZkpBg'}, 'href': 'https://api.spotify.com/v1/artists/6meTcQ79DrfkIuSLPZkpBg', 'id': '6meTcQ79DrfkIuSLPZkpBg', 'name': 'The Story So Far', 'type': 'artist', 'uri': 'spotify:artist:6meTcQ79DrfkIuSLPZkpBg'}], 'available_markets': [], 'external_urls': {'spotify': 'https://open.spotify.com/album/57DFU8RSro3sRnRVsplHQJ'}, 'href': 'https://api.spotify.com/v1/albums/57DFU8RSro3sRnRVsplHQJ', 'id': '57DFU8RSro3sRnRVsplHQJ', 'images': [{'height': 640, 'url': 'https://i.scdn.co/image/ab67616d0000b273d878326e2b5397905e84ac33', 'width': 640}, {'height': 300, 'url': 'https://i.scdn.co/image/ab67616d00001e02d878326e2b5397905e84ac33', 'width': 300}, {'height': 64, 'url': 'https://i.scdn.co/image/ab67616d00004851d878326e2b5397905e84ac33', 'width': 64}], 'name': 'Clairvoyant', 'release_date': '2013-05-16', 'release_date_precision': 'day', 'total_tracks': 1, 'type': 'album', 'uri': 'spotify:album:57DFU8RSro3sRnRVsplHQJ'}, 'artists': [{'external_urls': {'spotify': 'https://open.spotify.com/artist/6meTcQ79DrfkIuSLPZkpBg'}, 'href': 'https://api.spotify.com/v1/artists/6meTcQ79DrfkIuSLPZkpBg', 'id': '6meTcQ79DrfkIuSLPZkpBg', 'name': 'The Story So Far', 'type': 'artist', 'uri': 'spotify:artist:6meTcQ79DrfkIuSLPZkpBg'}], 'available_markets': [], 'disc_number': 1, 'duration_ms': 181028, 'explicit': False, 'external_ids': {'isrc': 'USSTT1300022'}, 'external_urls': {'spotify': 'https://open.spotify.com/track/5jclmAX2XQp5G3b6K30UJl'}, 'href': 'https://api.spotify.com/v1/tracks/5jclmAX2XQp5G3b6K30UJl', 'id': '5jclmAX2XQp5G3b6K30UJl', 'is_local': False, 'name': 'Clairvoyant', 'popularity': 0, 'preview_url': None, 'track_number': 1, 'type': 'track', 'uri': 'spotify:track:5jclmAX2XQp5G3b6K30UJl'}, {'album': {'album_type': 'ALBUM', 'artists': [{'external_urls': {'spotify': 'https://open.spotify.com/artist/7CQwac16i1W5ej8YpuL3dv'}, 'href': 'https://api.spotify.com/v1/artists/7CQwac16i1W5ej8YpuL3dv', 'id': '7CQwac16i1W5ej8YpuL3dv', 'name': 'Boyce Avenue', 'type': 'artist', 'uri': 'spotify:artist:7CQwac16i1W5ej8YpuL3dv'}], 'available_markets': ['AD', 'AE', 'AG', 'AL', 'AM', 'AO', 'AR', 'AT', 'AU', 'AZ', 'BA', 'BB', 'BD', 'BE', 'BF', 'BG', 'BH', 'BI', 'BJ', 'BN', 'BO', 'BR', 'BS', 'BT', 'BW', 'BY', 'BZ', 'CA', 'CD', 'CG', 'CH', 'CI', 'CL', 'CM', 'CO', 'CR', 'CV', 'CW', 'CY', 'CZ', 'DE', 'DJ', 'DK', 'DM', 'DO', 'DZ', 'EC', 'EE', 'EG', 'ES', 'FI', 'FJ', 'FM', 'FR', 'GA', 'GB', 'GD', 'GE', 'GH', 'GM', 'GN', 'GQ', 'GR', 'GT', 'GW', 'GY', 'HK', 'HN', 'HR', 'HT', 'HU', 'ID', 'IE', 'IL', 'IN', 'IQ', 'IS', 'IT', 'JM', 'JO', 'JP', 'KE', 'KG', 'KH', 'KI', 'KM', 'KN', 'KR', 'KW', 'KZ', 'LA', 'LB', 'LC', 'LI', 'LK', 'LR', 'LS', 'LT', 'LU', 'LV', 'LY', 'MA', 'MC', 'MD', 'ME', 'MG', 'MH', 'MK', 'ML', 'MN', 'MO', 'MR', 'MT', 'MU', 'MV', 'MW', 'MX', 'MY', 'MZ', 'NA', 'NE', 'NG', 'NI', 'NL', 'NO', 'NP', 'NR', 'NZ', 'OM', 'PA', 'PE', 'PG', 'PH', 'PK', 'PL', 'PS', 'PT', 'PW', 'PY', 'QA', 'RO', 'RS', 'RU', 'RW', 'SA', 'SB', 'SC', 'SE', 'SG', 'SI', 'SK', 'SL', 'SM', 'SN', 'SR', 'ST', 'SV', 'SZ', 'TD', 'TG', 'TH', 'TJ', 'TL', 'TN', 'TO', 'TR', 'TT', 'TV', 'TW', 'TZ', 'UA', 'UG', 'US', 'UY', 'UZ', 'VC', 'VE', 'VN', 'VU', 'WS', 'XK', 'ZA', 'ZM', 'ZW'], 'external_urls': {'spotify': 'https://open.spotify.com/album/58MXzvPciaISJgkK9aPXml'}, 'href': 'https://api.spotify.com/v1/albums/58MXzvPciaISJgkK9aPXml', 'id': '58MXzvPciaISJgkK9aPXml', 'images': [{'height': 640, 'url': 'https://i.scdn.co/image/ab67616d0000b27374a65835e714b1e462c1896a', 'width': 640}, {'height': 300, 'url': 'https://i.scdn.co/image/ab67616d00001e0274a65835e714b1e462c1896a', 'width': 300}, {'height': 64, 'url': 'https://i.scdn.co/image/ab67616d0000485174a65835e714b1e462c1896a', 'width': 64}], 'name': 'All We Have Left', 'release_date': '2010-06-15', 'release_date_precision': 'day', 'total_tracks': 19, 'type': 'album', 'uri': 'spotify:album:58MXzvPciaISJgkK9aPXml'}, 'artists': [{'external_urls': {'spotify': 'https://open.spotify.com/artist/7CQwac16i1W5ej8YpuL3dv'}, 'href': 'https://api.spotify.com/v1/artists/7CQwac16i1W5ej8YpuL3dv', 'id': '7CQwac16i1W5ej8YpuL3dv', 'name': 'Boyce Avenue', 'type': 'artist', 'uri': 'spotify:artist:7CQwac16i1W5ej8YpuL3dv'}], 'available_markets': ['AD', 'AE', 'AG', 'AL', 'AM', 'AO', 'AR', 'AT', 'AU', 'AZ', 'BA', 'BB', 'BD', 'BE', 'BF', 'BG', 'BH', 'BI', 'BJ', 'BN', 'BO', 'BR', 'BS', 'BT', 'BW', 'BY', 'BZ', 'CA', 'CD', 'CG', 'CH', 'CI', 'CL', 'CM', 'CO', 'CR', 'CV', 'CW', 'CY', 'CZ', 'DE', 'DJ', 'DK', 'DM', 'DO', 'DZ', 'EC', 'EE', 'EG', 'ES', 'FI', 'FJ', 'FM', 'FR', 'GA', 'GB', 'GD', 'GE', 'GH', 'GM', 'GN', 'GQ', 'GR', 'GT', 'GW', 'GY', 'HK', 'HN', 'HR', 'HT', 'HU', 'ID', 'IE', 'IL', 'IN', 'IQ', 'IS', 'IT', 'JM', 'JO', 'JP', 'KE', 'KG', 'KH', 'KI', 'KM', 'KN', 'KR', 'KW', 'KZ', 'LA', 'LB', 'LC', 'LI', 'LK', 'LR', 'LS', 'LT', 'LU', 'LV', 'LY', 'MA', 'MC', 'MD', 'ME', 'MG', 'MH', 'MK', 'ML', 'MN', 'MO', 'MR', 'MT', 'MU', 'MV', 'MW', 'MX', 'MY', 'MZ', 'NA', 'NE', 'NG', 'NI', 'NL', 'NO', 'NP', 'NR', 'NZ', 'OM', 'PA', 'PE', 'PG', 'PH', 'PK', 'PL', 'PS', 'PT', 'PW', 'PY', 'QA', 'RO', 'RS', 'RU', 'RW', 'SA', 'SB', 'SC', 'SE', 'SG', 'SI', 'SK', 'SL', 'SM', 'SN', 'SR', 'ST', 'SV', 'SZ', 'TD', 'TG', 'TH', 'TJ', 'TL', 'TN', 'TO', 'TR', 'TT', 'TV', 'TW', 'TZ', 'UA', 'UG', 'US', 'UY', 'UZ', 'VC', 'VE', 'VN', 'VU', 'WS', 'XK', 'ZA', 'ZM', 'ZW'], 'disc_number': 1, 'duration_ms': 244480, 'explicit': False, 'external_ids': {'isrc': 'USM951100209'}, 'external_urls': {'spotify': 'https://open.spotify.com/track/4fZ0mkzk0ktr4WVfjqyUv2'}, 'href': 'https://api.spotify.com/v1/tracks/4fZ0mkzk0ktr4WVfjqyUv2', 'id': '4fZ0mkzk0ktr4WVfjqyUv2', 'is_local': False, 'name': 'Hear Me Now', 'popularity': 27, 'preview_url': 'https://p.scdn.co/mp3-preview/b953e94f74f358481a3d0c45fa78a9eda582fcb8?cid=5b12725d46944b58902380a594fcb6bb', 'track_number': 9, 'type': 'track', 'uri': 'spotify:track:4fZ0mkzk0ktr4WVfjqyUv2'}, {'album': {'album_type': 'ALBUM', 'artists': [{'external_urls': {'spotify': 'https://open.spotify.com/artist/0hEurMDQu99nJRq8pTxO14'}, 'href': 'https://api.spotify.com/v1/artists/0hEurMDQu99nJRq8pTxO14', 'id': '0hEurMDQu99nJRq8pTxO14', 'name': 'John Mayer', 'type': 'artist', 'uri': 'spotify:artist:0hEurMDQu99nJRq8pTxO14'}], 'available_markets': ['AD', 'AE', 'AG', 'AL', 'AM', 'AO', 'AR', 'AT', 'AU', 'AZ', 'BA', 'BB', 'BD', 'BE', 'BF', 'BG', 'BH', 'BI', 'BJ', 'BN', 'BO', 'BR', 'BS', 'BT', 'BW', 'BY', 'BZ', 'CA', 'CD', 'CG', 'CH', 'CI', 'CL', 'CM', 'CO', 'CR', 'CV', 'CW', 'CY', 'CZ', 'DE', 'DJ', 'DK', 'DM', 'DO', 'DZ', 'EC', 'EE', 'EG', 'ES', 'FI', 'FJ', 'FM', 'FR', 'GA', 'GB', 'GD', 'GE', 'GH', 'GM', 'GN', 'GQ', 'GR', 'GT', 'GW', 'GY', 'HK', 'HN', 'HR', 'HT', 'HU', 'ID', 'IE', 'IL', 'IN', 'IQ', 'IS', 'IT', 'JM', 'JO', 'JP', 'KE', 'KG', 'KH', 'KI', 'KM', 'KN', 'KR', 'KW', 'KZ', 'LA', 'LB', 'LC', 'LI', 'LK', 'LR', 'LS', 'LT', 'LU', 'LV', 'LY', 'MA', 'MC', 'MD', 'ME', 'MG', 'MH', 'MK', 'ML', 'MN', 'MO', 'MR', 'MT', 'MU', 'MV', 'MW', 'MX', 'MY', 'MZ', 'NA', 'NE', 'NG', 'NI', 'NL', 'NO', 'NP', 'NR', 'NZ', 'OM', 'PA', 'PE', 'PG', 'PH', 'PK', 'PL', 'PS', 'PT', 'PW', 'PY', 'QA', 'RO', 'RS', 'RU', 'RW', 'SA', 'SB', 'SC', 'SE', 'SG', 'SI', 'SK', 'SL', 'SM', 'SN', 'SR', 'ST', 'SV', 'SZ', 'TD', 'TG', 'TH', 'TJ', 'TL', 'TN', 'TO', 'TR', 'TT', 'TV', 'TW', 'TZ', 'UA', 'UG', 'US', 'UY', 'UZ', 'VC', 'VE', 'VN', 'VU', 'WS', 'XK', 'ZA', 'ZM', 'ZW'], 'external_urls': {'spotify': 'https://open.spotify.com/album/4Dgxy95K9BWkDUvQPTaYBb'}, 'href': 'https://api.spotify.com/v1/albums/4Dgxy95K9BWkDUvQPTaYBb', 'id': '4Dgxy95K9BWkDUvQPTaYBb', 'images': [{'height': 640, 'url': 'https://i.scdn.co/image/ab67616d0000b2735b9c332f9f76cabc137e400f', 'width': 640}, {'height': 300, 'url': 'https://i.scdn.co/image/ab67616d00001e025b9c332f9f76cabc137e400f', 'width': 300}, {'height': 64, 'url': 'https://i.scdn.co/image/ab67616d000048515b9c332f9f76cabc137e400f', 'width': 64}], 'name': 'Where the Light Is: John Mayer Live In Los Angeles', 'release_date': '2008', 'release_date_precision': 'year', 'total_tracks': 22, 'type': 'album', 'uri': 'spotify:album:4Dgxy95K9BWkDUvQPTaYBb'}, 'artists': [{'external_urls': {'spotify': 'https://open.spotify.com/artist/0hEurMDQu99nJRq8pTxO14'}, 'href': 'https://api.spotify.com/v1/artists/0hEurMDQu99nJRq8pTxO14', 'id': '0hEurMDQu99nJRq8pTxO14', 'name': 'John Mayer', 'type': 'artist', 'uri': 'spotify:artist:0hEurMDQu99nJRq8pTxO14'}], 'available_markets': ['AD', 'AE', 'AG', 'AL', 'AM', 'AO', 'AR', 'AT', 'AU', 'AZ', 'BA', 'BB', 'BD', 'BE', 'BF', 'BG', 'BH', 'BI', 'BJ', 'BN', 'BO', 'BR', 'BS', 'BT', 'BW', 'BY', 'BZ', 'CA', 'CD', 'CG', 'CH', 'CI', 'CL', 'CM', 'CO', 'CR', 'CV', 'CW', 'CY', 'CZ', 'DE', 'DJ', 'DK', 'DM', 'DO', 'DZ', 'EC', 'EE', 'EG', 'ES', 'FI', 'FJ', 'FM', 'FR', 'GA', 'GB', 'GD', 'GE', 'GH', 'GM', 'GN', 'GQ', 'GR', 'GT', 'GW', 'GY', 'HK', 'HN', 'HR', 'HT', 'HU', 'ID', 'IE', 'IL', 'IN', 'IQ', 'IS', 'IT', 'JM', 'JO', 'JP', 'KE', 'KG', 'KH', 'KI', 'KM', 'KN', 'KR', 'KW', 'KZ', 'LA', 'LB', 'LC', 'LI', 'LK', 'LR', 'LS', 'LT', 'LU', 'LV', 'LY', 'MA', 'MC', 'MD', 'ME', 'MG', 'MH', 'MK', 'ML', 'MN', 'MO', 'MR', 'MT', 'MU', 'MV', 'MW', 'MX', 'MY', 'MZ', 'NA', 'NE', 'NG', 'NI', 'NL', 'NO', 'NP', 'NR', 'NZ', 'OM', 'PA', 'PE', 'PG', 'PH', 'PK', 'PL', 'PS', 'PT', 'PW', 'PY', 'QA', 'RO', 'RS', 'RU', 'RW', 'SA', 'SB', 'SC', 'SE', 'SG', 'SI', 'SK', 'SL', 'SM', 'SN', 'SR', 'ST', 'SV', 'SZ', 'TD', 'TG', 'TH', 'TJ', 'TL', 'TN', 'TO', 'TR', 'TT', 'TV', 'TW', 'TZ', 'UA', 'UG', 'US', 'UY', 'UZ', 'VC', 'VE', 'VN', 'VU', 'WS', 'XK', 'ZA', 'ZM', 'ZW'], 'disc_number': 1, 'duration_ms': 304600, 'explicit': False, 'external_ids': {'isrc': 'USSM10801203'}, 'external_urls': {'spotify': 'https://open.spotify.com/track/5bSPF76iSpI5p00BALV8uo'}, 'href': 'https://api.spotify.com/v1/tracks/5bSPF76iSpI5p00BALV8uo', 'id': '5bSPF76iSpI5p00BALV8uo', 'is_local': False, 'name': 'Daughters - Live at the Nokia Theatre, Los Angeles, CA - December 2007', 'popularity': 56, 'preview_url': 'https://p.scdn.co/mp3-preview/2557cfc4f3dbed1c28b07dbd58e0b67a3d9cb05f?cid=5b12725d46944b58902380a594fcb6bb', 'track_number': 4, 'type': 'track', 'uri': 'spotify:track:5bSPF76iSpI5p00BALV8uo'}, {'album': {'album_type': 'SINGLE', 'artists': [{'external_urls': {'spotify': 'https://open.spotify.com/artist/3w6zswp5THsSKYLICUbDTZ'}, 'href': 'https://api.spotify.com/v1/artists/3w6zswp5THsSKYLICUbDTZ', 'id': '3w6zswp5THsSKYLICUbDTZ', 'name': 'Gabrielle Aplin', 'type': 'artist', 'uri': 'spotify:artist:3w6zswp5THsSKYLICUbDTZ'}], 'available_markets': [], 'external_urls': {'spotify': 'https://open.spotify.com/album/0mCUPqwRxFDpjoGMruv4gm'}, 'href': 'https://api.spotify.com/v1/albums/0mCUPqwRxFDpjoGMruv4gm', 'id': '0mCUPqwRxFDpjoGMruv4gm', 'images': [{'height': 640, 'url': 'https://i.scdn.co/image/ab67616d0000b273fed7367d5c7142ff8bac3b88', 'width': 640}, {'height': 300, 'url': 'https://i.scdn.co/image/ab67616d00001e02fed7367d5c7142ff8bac3b88', 'width': 300}, {'height': 64, 'url': 'https://i.scdn.co/image/ab67616d00004851fed7367d5c7142ff8bac3b88', 'width': 64}], 'name': 'The Power of Love', 'release_date': '2012-11-10', 'release_date_precision': 'day', 'total_tracks': 1, 'type': 'album', 'uri': 'spotify:album:0mCUPqwRxFDpjoGMruv4gm'}, 'artists': [{'external_urls': {'spotify': 'https://open.spotify.com/artist/3w6zswp5THsSKYLICUbDTZ'}, 'href': 'https://api.spotify.com/v1/artists/3w6zswp5THsSKYLICUbDTZ', 'id': '3w6zswp5THsSKYLICUbDTZ', 'name': 'Gabrielle Aplin', 'type': 'artist', 'uri': 'spotify:artist:3w6zswp5THsSKYLICUbDTZ'}], 'available_markets': [], 'disc_number': 1, 'duration_ms': 245160, 'explicit': False, 'external_ids': {'isrc': 'GBAYE1202354'}, 'external_urls': {'spotify': 'https://open.spotify.com/track/4KSZnP1VFSaytKufyzNbDO'}, 'href': 'https://api.spotify.com/v1/tracks/4KSZnP1VFSaytKufyzNbDO', 'id': '4KSZnP1VFSaytKufyzNbDO', 'is_local': False, 'name': 'The Power of Love', 'popularity': 0, 'preview_url': None, 'track_number': 1, 'type': 'track', 'uri': 'spotify:track:4KSZnP1VFSaytKufyzNbDO'}, {'album': {'album_type': 'ALBUM', 'artists': [{'external_urls': {'spotify': 'https://open.spotify.com/artist/4gzpq5DPGxSnKTe4SA8HAU'}, 'href': 'https://api.spotify.com/v1/artists/4gzpq5DPGxSnKTe4SA8HAU', 'id': '4gzpq5DPGxSnKTe4SA8HAU', 'name': 'Coldplay', 'type': 'artist', 'uri': 'spotify:artist:4gzpq5DPGxSnKTe4SA8HAU'}], 'available_markets': ['AD', 'AE', 'AG', 'AL', 'AM', 'AO', 'AR', 'AT', 'AU', 'AZ', 'BA', 'BB', 'BD', 'BE', 'BF', 'BG', 'BH', 'BI', 'BJ', 'BN', 'BO', 'BR', 'BS', 'BT', 'BW', 'BY', 'BZ', 'CA', 'CD', 'CG', 'CH', 'CI', 'CL', 'CM', 'CO', 'CR', 'CV', 'CW', 'CY', 'CZ', 'DE', 'DJ', 'DK', 'DM', 'DO', 'DZ', 'EC', 'EE', 'EG', 'ES', 'FI', 'FJ', 'FM', 'FR', 'GA', 'GB', 'GD', 'GE', 'GH', 'GM', 'GN', 'GQ', 'GR', 'GT', 'GW', 'GY', 'HK', 'HN', 'HR', 'HT', 'HU', 'ID', 'IE', 'IL', 'IN', 'IQ', 'IS', 'IT', 'JM', 'JO', 'JP', 'KE', 'KG', 'KH', 'KI', 'KM', 'KN', 'KR', 'KW', 'KZ', 'LA', 'LB', 'LC', 'LI', 'LK', 'LR', 'LS', 'LT', 'LU', 'LV', 'LY', 'MA', 'MC', 'MD', 'ME', 'MG', 'MH', 'MK', 'ML', 'MN', 'MO', 'MR', 'MT', 'MU', 'MV', 'MW', 'MX', 'MY', 'MZ', 'NA', 'NE', 'NG', 'NI', 'NL', 'NO', 'NP', 'NR', 'NZ', 'OM', 'PA', 'PE', 'PG', 'PH', 'PK', 'PL', 'PS', 'PT', 'PW', 'PY', 'QA', 'RO', 'RS', 'RU', 'RW', 'SA', 'SB', 'SC', 'SE', 'SG', 'SI', 'SK', 'SL', 'SM', 'SN', 'SR', 'ST', 'SV', 'SZ', 'TD', 'TG', 'TH', 'TJ', 'TL', 'TN', 'TO', 'TR', 'TT', 'TV', 'TW', 'TZ', 'UA', 'UG', 'US', 'UY', 'UZ', 'VC', 'VE', 'VN', 'VU', 'WS', 'XK', 'ZA', 'ZM', 'ZW'], 'external_urls': {'spotify': 'https://open.spotify.com/album/3JMOZD2qixTTLRW9I6JuF4'}, 'href': 'https://api.spotify.com/v1/albums/3JMOZD2qixTTLRW9I6JuF4', 'id': '3JMOZD2qixTTLRW9I6JuF4', 'images': [{'height': 640, 'url': 'https://i.scdn.co/image/ab67616d0000b27323969e14b74349ffcf79f55e', 'width': 640}, {'height': 300, 'url': 'https://i.scdn.co/image/ab67616d00001e0223969e14b74349ffcf79f55e', 'width': 300}, {'height': 64, 'url': 'https://i.scdn.co/image/ab67616d0000485123969e14b74349ffcf79f55e', 'width': 64}], 'name': 'Live 2003', 'release_date': '2003-11-01', 'release_date_precision': 'day', 'total_tracks': 12, 'type': 'album', 'uri': 'spotify:album:3JMOZD2qixTTLRW9I6JuF4'}, 'artists': [{'external_urls': {'spotify': 'https://open.spotify.com/artist/4gzpq5DPGxSnKTe4SA8HAU'}, 'href': 'https://api.spotify.com/v1/artists/4gzpq5DPGxSnKTe4SA8HAU', 'id': '4gzpq5DPGxSnKTe4SA8HAU', 'name': 'Coldplay', 'type': 'artist', 'uri': 'spotify:artist:4gzpq5DPGxSnKTe4SA8HAU'}], 'available_markets': ['AD', 'AE', 'AG', 'AL', 'AM', 'AO', 'AR', 'AT', 'AU', 'AZ', 'BA', 'BB', 'BD', 'BE', 'BF', 'BG', 'BH', 'BI', 'BJ', 'BN', 'BO', 'BR', 'BS', 'BT', 'BW', 'BY', 'BZ', 'CA', 'CD', 'CG', 'CH', 'CI', 'CL', 'CM', 'CO', 'CR', 'CV', 'CW', 'CY', 'CZ', 'DE', 'DJ', 'DK', 'DM', 'DO', 'DZ', 'EC', 'EE', 'EG', 'ES', 'FI', 'FJ', 'FM', 'FR', 'GA', 'GB', 'GD', 'GE', 'GH', 'GM', 'GN', 'GQ', 'GR', 'GT', 'GW', 'GY', 'HK', 'HN', 'HR', 'HT', 'HU', 'ID', 'IE', 'IL', 'IN', 'IQ', 'IS', 'IT', 'JM', 'JO', 'JP', 'KE', 'KG', 'KH', 'KI', 'KM', 'KN', 'KR', 'KW', 'KZ', 'LA', 'LB', 'LC', 'LI', 'LK', 'LR', 'LS', 'LT', 'LU', 'LV', 'LY', 'MA', 'MC', 'MD', 'ME', 'MG', 'MH', 'MK', 'ML', 'MN', 'MO', 'MR', 'MT', 'MU', 'MV', 'MW', 'MX', 'MY', 'MZ', 'NA', 'NE', 'NG', 'NI', 'NL', 'NO', 'NP', 'NR', 'NZ', 'OM', 'PA', 'PE', 'PG', 'PH', 'PK', 'PL', 'PS', 'PT', 'PW', 'PY', 'QA', 'RO', 'RS', 'RU', 'RW', 'SA', 'SB', 'SC', 'SE', 'SG', 'SI', 'SK', 'SL', 'SM', 'SN', 'SR', 'ST', 'SV', 'SZ', 'TD', 'TG', 'TH', 'TJ', 'TL', 'TN', 'TO', 'TR', 'TT', 'TV', 'TW', 'TZ', 'UA', 'UG', 'US', 'UY', 'UZ', 'VC', 'VE', 'VN', 'VU', 'WS', 'XK', 'ZA', 'ZM', 'ZW'], 'disc_number': 1, 'duration_ms': 332426, 'explicit': False, 'external_ids': {'isrc': 'GBAYE0301691'}, 'external_urls': {'spotify': 'https://open.spotify.com/track/3cYgC50pVnjPKuh6b0xmZk'}, 'href': 'https://api.spotify.com/v1/tracks/3cYgC50pVnjPKuh6b0xmZk', 'id': '3cYgC50pVnjPKuh6b0xmZk', 'is_local': False, 'name': 'Clocks - Live in Sydney', 'popularity': 43, 'preview_url': 'https://p.scdn.co/mp3-preview/708a1fdcb0b070ccf87013a40fa74436930c3c8e?cid=5b12725d46944b58902380a594fcb6bb', 'track_number': 10, 'type': 'track', 'uri': 'spotify:track:3cYgC50pVnjPKuh6b0xmZk'}, {'album': {'album_type': 'ALBUM', 'artists': [{'external_urls': {'spotify': 'https://open.spotify.com/artist/7CQwac16i1W5ej8YpuL3dv'}, 'href': 'https://api.spotify.com/v1/artists/7CQwac16i1W5ej8YpuL3dv', 'id': '7CQwac16i1W5ej8YpuL3dv', 'name': 'Boyce Avenue', 'type': 'artist', 'uri': 'spotify:artist:7CQwac16i1W5ej8YpuL3dv'}], 'available_markets': [], 'external_urls': {'spotify': 'https://open.spotify.com/album/16JVqQaupaBt030iKiD5S1'}, 'href': 'https://api.spotify.com/v1/albums/16JVqQaupaBt030iKiD5S1', 'id': '16JVqQaupaBt030iKiD5S1', 'images': [{'height': 640, 'url': 'https://i.scdn.co/image/ab67616d0000b273f4d160a1af71cf538d2d3eed', 'width': 640}, {'height': 300, 'url': 'https://i.scdn.co/image/ab67616d00001e02f4d160a1af71cf538d2d3eed', 'width': 300}, {'height': 64, 'url': 'https://i.scdn.co/image/ab67616d00004851f4d160a1af71cf538d2d3eed', 'width': 64}], 'name': 'Cover Collaborations, Vol. 1', 'release_date': '2010-12-06', 'release_date_precision': 'day', 'total_tracks': 13, 'type': 'album', 'uri': 'spotify:album:16JVqQaupaBt030iKiD5S1'}, 'artists': [{'external_urls': {'spotify': 'https://open.spotify.com/artist/7CQwac16i1W5ej8YpuL3dv'}, 'href': 'https://api.spotify.com/v1/artists/7CQwac16i1W5ej8YpuL3dv', 'id': '7CQwac16i1W5ej8YpuL3dv', 'name': 'Boyce Avenue', 'type': 'artist', 'uri': 'spotify:artist:7CQwac16i1W5ej8YpuL3dv'}, {'external_urls': {'spotify': 'https://open.spotify.com/artist/3OiVNeHkjQfnikmcBXbplT'}, 'href': 'https://api.spotify.com/v1/artists/3OiVNeHkjQfnikmcBXbplT', 'id': '3OiVNeHkjQfnikmcBXbplT', 'name': 'Megan Nicole', 'type': 'artist', 'uri': 'spotify:artist:3OiVNeHkjQfnikmcBXbplT'}], 'available_markets': [], 'disc_number': 1, 'duration_ms': 227027, 'explicit': False, 'external_ids': {'isrc': 'USM951100029'}, 'external_urls': {'spotify': 'https://open.spotify.com/track/0v913JHU9h91rxpuDUNJxR'}, 'href': 'https://api.spotify.com/v1/tracks/0v913JHU9h91rxpuDUNJxR', 'id': '0v913JHU9h91rxpuDUNJxR', 'is_local': False, 'name': 'Skyscraper (feat. Megan Nicole)', 'popularity': 0, 'preview_url': None, 'track_number': 10, 'type': 'track', 'uri': 'spotify:track:0v913JHU9h91rxpuDUNJxR'}, {'album': {'album_type': 'SINGLE', 'artists': [{'external_urls': {'spotify': 'https://open.spotify.com/artist/2WWTUZ3LpcAAPhSEz3H0rg'}, 'href': 'https://api.spotify.com/v1/artists/2WWTUZ3LpcAAPhSEz3H0rg', 'id': '2WWTUZ3LpcAAPhSEz3H0rg', 'name': 'Alex G', 'type': 'artist', 'uri': 'spotify:artist:2WWTUZ3LpcAAPhSEz3H0rg'}], 'available_markets': [], 'external_urls': {'spotify': 'https://open.spotify.com/album/6UP6kUUDY34opVyjN914pL'}, 'href': 'https://api.spotify.com/v1/albums/6UP6kUUDY34opVyjN914pL', 'id': '6UP6kUUDY34opVyjN914pL', 'images': [{'height': 640, 'url': 'https://i.scdn.co/image/ab67616d0000b27389b73b3e1d733ed72ed6074e', 'width': 640}, {'height': 300, 'url': 'https://i.scdn.co/image/ab67616d00001e0289b73b3e1d733ed72ed6074e', 'width': 300}, {'height': 64, 'url': 'https://i.scdn.co/image/ab67616d0000485189b73b3e1d733ed72ed6074e', 'width': 64}], 'name': 'Monster', 'release_date': '2011-10-03', 'release_date_precision': 'day', 'total_tracks': 1, 'type': 'album', 'uri': 'spotify:album:6UP6kUUDY34opVyjN914pL'}, 'artists': [{'external_urls': {'spotify': 'https://open.spotify.com/artist/2WWTUZ3LpcAAPhSEz3H0rg'}, 'href': 'https://api.spotify.com/v1/artists/2WWTUZ3LpcAAPhSEz3H0rg', 'id': '2WWTUZ3LpcAAPhSEz3H0rg', 'name': 'Alex G', 'type': 'artist', 'uri': 'spotify:artist:2WWTUZ3LpcAAPhSEz3H0rg'}], 'available_markets': [], 'disc_number': 1, 'duration_ms': 202974, 'explicit': False, 'external_ids': {'isrc': 'GBDMT1100326'}, 'external_urls': {'spotify': 'https://open.spotify.com/track/2vgXxM17lInCuwiZv68t6D'}, 'href': 'https://api.spotify.com/v1/tracks/2vgXxM17lInCuwiZv68t6D', 'id': '2vgXxM17lInCuwiZv68t6D', 'is_local': False, 'name': 'Monster', 'popularity': 0, 'preview_url': None, 'track_number': 1, 'type': 'track', 'uri': 'spotify:track:2vgXxM17lInCuwiZv68t6D'}, {'album': {'album_type': 'ALBUM', 'artists': [{'external_urls': {'spotify': 'https://open.spotify.com/artist/2Kx7MNY7cI1ENniW7vT30N'}, 'href': 'https://api.spotify.com/v1/artists/2Kx7MNY7cI1ENniW7vT30N', 'id': '2Kx7MNY7cI1ENniW7vT30N', 'name': 'Norah Jones', 'type': 'artist', 'uri': 'spotify:artist:2Kx7MNY7cI1ENniW7vT30N'}], 'available_markets': ['AD', 'AE', 'AG', 'AL', 'AM', 'AO', 'AR', 'AT', 'AU', 'AZ', 'BA', 'BB', 'BD', 'BE', 'BF', 'BG', 'BH', 'BI', 'BJ', 'BN', 'BO', 'BR', 'BS', 'BT', 'BW', 'BY', 'BZ', 'CA', 'CD', 'CG', 'CH', 'CI', 'CL', 'CM', 'CO', 'CR', 'CV', 'CW', 'CY', 'CZ', 'DE', 'DJ', 'DK', 'DM', 'DO', 'DZ', 'EC', 'EE', 'EG', 'ES', 'FI', 'FJ', 'FM', 'FR', 'GA', 'GB', 'GD', 'GE', 'GH', 'GM', 'GN', 'GQ', 'GR', 'GT', 'GW', 'GY', 'HK', 'HN', 'HR', 'HT', 'HU', 'ID', 'IE', 'IL', 'IN', 'IQ', 'IS', 'IT', 'JM', 'JO', 'JP', 'KE', 'KG', 'KH', 'KI', 'KM', 'KN', 'KR', 'KW', 'KZ', 'LA', 'LB', 'LC', 'LI', 'LK', 'LR', 'LS', 'LT', 'LU', 'LV', 'LY', 'MA', 'MC', 'MD', 'ME', 'MG', 'MH', 'MK', 'ML', 'MN', 'MO', 'MR', 'MT', 'MU', 'MV', 'MW', 'MX', 'MY', 'MZ', 'NA', 'NE', 'NG', 'NI', 'NL', 'NO', 'NP', 'NR', 'NZ', 'OM', 'PA', 'PE', 'PG', 'PH', 'PK', 'PL', 'PS', 'PT', 'PW', 'PY', 'QA', 'RO', 'RS', 'RU', 'RW', 'SA', 'SB', 'SC', 'SE', 'SG', 'SI', 'SK', 'SL', 'SM', 'SN', 'SR', 'ST', 'SV', 'SZ', 'TD', 'TG', 'TH', 'TJ', 'TL', 'TN', 'TO', 'TR', 'TT', 'TV', 'TW', 'TZ', 'UA', 'UG', 'US', 'UY', 'UZ', 'VC', 'VE', 'VN', 'VU', 'WS', 'XK', 'ZA', 'ZM', 'ZW'], 'external_urls': {'spotify': 'https://open.spotify.com/album/7GaAXgbFSpcJOiLlFGYyOL'}, 'href': 'https://api.spotify.com/v1/albums/7GaAXgbFSpcJOiLlFGYyOL', 'id': '7GaAXgbFSpcJOiLlFGYyOL', 'images': [{'height': 640, 'url': 'https://i.scdn.co/image/ab67616d0000b27364026be0e09c1beda2f67c32', 'width': 640}, {'height': 300, 'url': 'https://i.scdn.co/image/ab67616d00001e0264026be0e09c1beda2f67c32', 'width': 300}, {'height': 64, 'url': 'https://i.scdn.co/image/ab67616d0000485164026be0e09c1beda2f67c32', 'width': 64}], 'name': 'Feels Like Home', 'release_date': '2004-01-01', 'release_date_precision': 'day', 'total_tracks': 13, 'type': 'album', 'uri': 'spotify:album:7GaAXgbFSpcJOiLlFGYyOL'}, 'artists': [{'external_urls': {'spotify': 'https://open.spotify.com/artist/2Kx7MNY7cI1ENniW7vT30N'}, 'href': 'https://api.spotify.com/v1/artists/2Kx7MNY7cI1ENniW7vT30N', 'id': '2Kx7MNY7cI1ENniW7vT30N', 'name': 'Norah Jones', 'type': 'artist', 'uri': 'spotify:artist:2Kx7MNY7cI1ENniW7vT30N'}], 'available_markets': ['AD', 'AE', 'AG', 'AL', 'AM', 'AO', 'AR', 'AT', 'AU', 'AZ', 'BA', 'BB', 'BD', 'BE', 'BF', 'BG', 'BH', 'BI', 'BJ', 'BN', 'BO', 'BR', 'BS', 'BT', 'BW', 'BY', 'BZ', 'CA', 'CD', 'CG', 'CH', 'CI', 'CL', 'CM', 'CO', 'CR', 'CV', 'CW', 'CY', 'CZ', 'DE', 'DJ', 'DK', 'DM', 'DO', 'DZ', 'EC', 'EE', 'EG', 'ES', 'FI', 'FJ', 'FM', 'FR', 'GA', 'GB', 'GD', 'GE', 'GH', 'GM', 'GN', 'GQ', 'GR', 'GT', 'GW', 'GY', 'HK', 'HN', 'HR', 'HT', 'HU', 'ID', 'IE', 'IL', 'IN', 'IQ', 'IS', 'IT', 'JM', 'JO', 'JP', 'KE', 'KG', 'KH', 'KI', 'KM', 'KN', 'KR', 'KW', 'KZ', 'LA', 'LB', 'LC', 'LI', 'LK', 'LR', 'LS', 'LT', 'LU', 'LV', 'LY', 'MA', 'MC', 'MD', 'ME', 'MG', 'MH', 'MK', 'ML', 'MN', 'MO', 'MR', 'MT', 'MU', 'MV', 'MW', 'MX', 'MY', 'MZ', 'NA', 'NE', 'NG', 'NI', 'NL', 'NO', 'NP', 'NR', 'NZ', 'OM', 'PA', 'PE', 'PG', 'PH', 'PK', 'PL', 'PS', 'PT', 'PW', 'PY', 'QA', 'RO', 'RS', 'RU', 'RW', 'SA', 'SB', 'SC', 'SE', 'SG', 'SI', 'SK', 'SL', 'SM', 'SN', 'SR', 'ST', 'SV', 'SZ', 'TD', 'TG', 'TH', 'TJ', 'TL', 'TN', 'TO', 'TR', 'TT', 'TV', 'TW', 'TZ', 'UA', 'UG', 'US', 'UY', 'UZ', 'VC', 'VE', 'VN', 'VU', 'WS', 'XK', 'ZA', 'ZM', 'ZW'], 'disc_number': 1, 'duration_ms': 200626, 'explicit': False, 'external_ids': {'isrc': 'USBN20300893'}, 'external_urls': {'spotify': 'https://open.spotify.com/track/7zkLpY72g6lKQbiHDqri1S'}, 'href': 'https://api.spotify.com/v1/tracks/7zkLpY72g6lKQbiHDqri1S', 'id': '7zkLpY72g6lKQbiHDqri1S', 'is_local': False, 'name': 'Sunrise', 'popularity': 75, 'preview_url': None, 'track_number': 1, 'type': 'track', 'uri': 'spotify:track:7zkLpY72g6lKQbiHDqri1S'}, {'album': {'album_type': 'ALBUM', 'artists': [{'external_urls': {'spotify': 'https://open.spotify.com/artist/3GBPw9NK25X1Wt2OUvOwY3'}, 'href': 'https://api.spotify.com/v1/artists/3GBPw9NK25X1Wt2OUvOwY3', 'id': '3GBPw9NK25X1Wt2OUvOwY3', 'name': 'Jack Johnson', 'type': 'artist', 'uri': 'spotify:artist:3GBPw9NK25X1Wt2OUvOwY3'}], 'available_markets': ['CA', 'CR', 'DO', 'GT', 'HN', 'JP', 'MX', 'NI', 'PA', 'SV', 'US'], 'external_urls': {'spotify': 'https://open.spotify.com/album/7tTc46dNdE6GGuiQsssWxo'}, 'href': 'https://api.spotify.com/v1/albums/7tTc46dNdE6GGuiQsssWxo', 'id': '7tTc46dNdE6GGuiQsssWxo', 'images': [{'height': 640, 'url': 'https://i.scdn.co/image/ab67616d0000b27306b42768ebe736eec21336ea', 'width': 640}, {'height': 300, 'url': 'https://i.scdn.co/image/ab67616d00001e0206b42768ebe736eec21336ea', 'width': 300}, {'height': 64, 'url': 'https://i.scdn.co/image/ab67616d0000485106b42768ebe736eec21336ea', 'width': 64}], 'name': 'In Between Dreams', 'release_date': '2005-01-01', 'release_date_precision': 'day', 'total_tracks': 14, 'type': 'album', 'uri': 'spotify:album:7tTc46dNdE6GGuiQsssWxo'}, 'artists': [{'external_urls': {'spotify': 'https://open.spotify.com/artist/3GBPw9NK25X1Wt2OUvOwY3'}, 'href': 'https://api.spotify.com/v1/artists/3GBPw9NK25X1Wt2OUvOwY3', 'id': '3GBPw9NK25X1Wt2OUvOwY3', 'name': 'Jack Johnson', 'type': 'artist', 'uri': 'spotify:artist:3GBPw9NK25X1Wt2OUvOwY3'}], 'available_markets': ['CA', 'CR', 'DO', 'GT', 'HN', 'JP', 'MX', 'NI', 'PA', 'SV', 'US'], 'disc_number': 1, 'duration_ms': 191906, 'explicit': False, 'external_ids': {'isrc': 'USMC60400032'}, 'external_urls': {'spotify': 'https://open.spotify.com/track/451GvHwY99NKV4zdKPRWmv'}, 'href': 'https://api.spotify.com/v1/tracks/451GvHwY99NKV4zdKPRWmv', 'id': '451GvHwY99NKV4zdKPRWmv', 'is_local': False, 'name': 'Banana Pancakes', 'popularity': 73, 'preview_url': None, 'track_number': 3, 'type': 'track', 'uri': 'spotify:track:451GvHwY99NKV4zdKPRWmv'}, {'album': {'album_type': 'COMPILATION', 'artists': [{'external_urls': {'spotify': 'https://open.spotify.com/artist/0LyfQWJT6nXafLPZqxe9Of'}, 'href': 'https://api.spotify.com/v1/artists/0LyfQWJT6nXafLPZqxe9Of', 'id': '0LyfQWJT6nXafLPZqxe9Of', 'name': 'Various Artists', 'type': 'artist', 'uri': 'spotify:artist:0LyfQWJT6nXafLPZqxe9Of'}], 'available_markets': ['AD', 'AE', 'AG', 'AL', 'AM', 'AO', 'AR', 'AT', 'AU', 'AZ', 'BA', 'BB', 'BD', 'BE', 'BF', 'BG', 'BH', 'BI', 'BJ', 'BN', 'BO', 'BR', 'BS', 'BT', 'BW', 'BY', 'BZ', 'CA', 'CD', 'CG', 'CH', 'CI', 'CL', 'CM', 'CO', 'CR', 'CV', 'CY', 'CZ', 'DE', 'DJ', 'DK', 'DM', 'DO', 'DZ', 'EC', 'EE', 'EG', 'ES', 'FI', 'FJ', 'FM', 'FR', 'GA', 'GB', 'GD', 'GE', 'GH', 'GM', 'GN', 'GQ', 'GR', 'GT', 'GW', 'GY', 'HK', 'HN', 'HR', 'HT', 'HU', 'ID', 'IE', 'IL', 'IN', 'IQ', 'IS', 'IT', 'JM', 'JO', 'JP', 'KE', 'KG', 'KH', 'KI', 'KM', 'KN', 'KR', 'KW', 'KZ', 'LA', 'LB', 'LC', 'LI', 'LK', 'LR', 'LS', 'LT', 'LU', 'LV', 'LY', 'MA', 'MC', 'MD', 'ME', 'MG', 'MH', 'MK', 'ML', 'MN', 'MO', 'MR', 'MT', 'MU', 'MV', 'MW', 'MX', 'MY', 'MZ', 'NA', 'NE', 'NG', 'NI', 'NL', 'NO', 'NP', 'NR', 'NZ', 'OM', 'PA', 'PE', 'PG', 'PH', 'PK', 'PL', 'PS', 'PT', 'PW', 'PY', 'QA', 'RO', 'RS', 'RU', 'RW', 'SA', 'SB', 'SC', 'SE', 'SG', 'SI', 'SK', 'SL', 'SM', 'SN', 'SR', 'ST', 'SV', 'SZ', 'TD', 'TG', 'TH', 'TJ', 'TL', 'TN', 'TO', 'TR', 'TT', 'TV', 'TW', 'TZ', 'UA', 'UG', 'US', 'UY', 'UZ', 'VC', 'VE', 'VN', 'VU', 'WS', 'XK', 'ZA', 'ZM', 'ZW'], 'external_urls': {'spotify': 'https://open.spotify.com/album/17szHHskfZ3x40VNcj1fiM'}, 'href': 'https://api.spotify.com/v1/albums/17szHHskfZ3x40VNcj1fiM', 'id': '17szHHskfZ3x40VNcj1fiM', 'images': [{'height': 640, 'url': 'https://i.scdn.co/image/ab67616d0000b27394375abfcaf02ec293d97d9b', 'width': 640}, {'height': 300, 'url': 'https://i.scdn.co/image/ab67616d00001e0294375abfcaf02ec293d97d9b', 'width': 300}, {'height': 64, 'url': 'https://i.scdn.co/image/ab67616d0000485194375abfcaf02ec293d97d9b', 'width': 64}], 'name': 'Guilt By Association (Digital-Only Bonus Version)', 'release_date': '2007-09-04', 'release_date_precision': 'day', 'total_tracks': 17, 'type': 'album', 'uri': 'spotify:album:17szHHskfZ3x40VNcj1fiM'}, 'artists': [{'external_urls': {'spotify': 'https://open.spotify.com/artist/1YZEoYFXx4AxVv13OiOPvZ'}, 'href': 'https://api.spotify.com/v1/artists/1YZEoYFXx4AxVv13OiOPvZ', 'id': '1YZEoYFXx4AxVv13OiOPvZ', 'name': 'Devendra Banhart', 'type': 'artist', 'uri': 'spotify:artist:1YZEoYFXx4AxVv13OiOPvZ'}], 'available_markets': ['AD', 'AE', 'AG', 'AL', 'AM', 'AO', 'AR', 'AT', 'AU', 'AZ', 'BA', 'BB', 'BD', 'BE', 'BF', 'BG', 'BH', 'BI', 'BJ', 'BN', 'BO', 'BR', 'BS', 'BT', 'BW', 'BY', 'BZ', 'CA', 'CD', 'CG', 'CH', 'CI', 'CL', 'CM', 'CO', 'CR', 'CV', 'CY', 'CZ', 'DE', 'DJ', 'DK', 'DM', 'DO', 'DZ', 'EC', 'EE', 'EG', 'ES', 'FI', 'FJ', 'FM', 'FR', 'GA', 'GB', 'GD', 'GE', 'GH', 'GM', 'GN', 'GQ', 'GR', 'GT', 'GW', 'GY', 'HK', 'HN', 'HR', 'HT', 'HU', 'ID', 'IE', 'IL', 'IN', 'IQ', 'IS', 'IT', 'JM', 'JO', 'JP', 'KE', 'KG', 'KH', 'KI', 'KM', 'KN', 'KR', 'KW', 'KZ', 'LA', 'LB', 'LC', 'LI', 'LK', 'LR', 'LS', 'LT', 'LU', 'LV', 'LY', 'MA', 'MC', 'MD', 'ME', 'MG', 'MH', 'MK', 'ML', 'MN', 'MO', 'MR', 'MT', 'MU', 'MV', 'MW', 'MX', 'MY', 'MZ', 'NA', 'NE', 'NG', 'NI', 'NL', 'NO', 'NP', 'NR', 'NZ', 'OM', 'PA', 'PE', 'PG', 'PH', 'PK', 'PL', 'PS', 'PT', 'PW', 'PY', 'QA', 'RO', 'RS', 'RU', 'RW', 'SA', 'SB', 'SC', 'SE', 'SG', 'SI', 'SK', 'SL', 'SM', 'SN', 'SR', 'ST', 'SV', 'SZ', 'TD', 'TG', 'TH', 'TJ', 'TL', 'TN', 'TO', 'TR', 'TT', 'TV', 'TW', 'TZ', 'UA', 'UG', 'US', 'UY', 'UZ', 'VC', 'VE', 'VN', 'VU', 'WS', 'XK', 'ZA', 'ZM', 'ZW'], 'disc_number': 1, 'duration_ms': 231693, 'explicit': False, 'external_ids': {'isrc': 'USA560681008'}, 'external_urls': {'spotify': 'https://open.spotify.com/track/7AlVeahkUlCgpkA1VKAT3e'}, 'href': 'https://api.spotify.com/v1/tracks/7AlVeahkUlCgpkA1VKAT3e', 'id': '7AlVeahkUlCgpkA1VKAT3e', 'is_local': False, 'name': \"Don't Look Back In Anger\", 'popularity': 31, 'preview_url': 'https://p.scdn.co/mp3-preview/ee4bd2447a29ff52669b6a2cf3149930818bde2a?cid=5b12725d46944b58902380a594fcb6bb', 'track_number': 2, 'type': 'track', 'uri': 'spotify:track:7AlVeahkUlCgpkA1VKAT3e'}, {'album': {'album_type': 'ALBUM', 'artists': [{'external_urls': {'spotify': 'https://open.spotify.com/artist/3gd8FJtBJtkRxdfbTu19U2'}, 'href': 'https://api.spotify.com/v1/artists/3gd8FJtBJtkRxdfbTu19U2', 'id': '3gd8FJtBJtkRxdfbTu19U2', 'name': 'Mumford & Sons', 'type': 'artist', 'uri': 'spotify:artist:3gd8FJtBJtkRxdfbTu19U2'}], 'available_markets': [], 'external_urls': {'spotify': 'https://open.spotify.com/album/7KkiEooAVT3EyqQMOl6Iah'}, 'href': 'https://api.spotify.com/v1/albums/7KkiEooAVT3EyqQMOl6Iah', 'id': '7KkiEooAVT3EyqQMOl6Iah', 'images': [{'height': 640, 'url': 'https://i.scdn.co/image/ab67616d0000b273cd874e988ed15f2859705217', 'width': 640}, {'height': 300, 'url': 'https://i.scdn.co/image/ab67616d00001e02cd874e988ed15f2859705217', 'width': 300}, {'height': 64, 'url': 'https://i.scdn.co/image/ab67616d00004851cd874e988ed15f2859705217', 'width': 64}], 'name': 'Sigh No More', 'release_date': '2009-01-01', 'release_date_precision': 'day', 'total_tracks': 12, 'type': 'album', 'uri': 'spotify:album:7KkiEooAVT3EyqQMOl6Iah'}, 'artists': [{'external_urls': {'spotify': 'https://open.spotify.com/artist/3gd8FJtBJtkRxdfbTu19U2'}, 'href': 'https://api.spotify.com/v1/artists/3gd8FJtBJtkRxdfbTu19U2', 'id': '3gd8FJtBJtkRxdfbTu19U2', 'name': 'Mumford & Sons', 'type': 'artist', 'uri': 'spotify:artist:3gd8FJtBJtkRxdfbTu19U2'}], 'available_markets': [], 'disc_number': 1, 'duration_ms': 215626, 'explicit': False, 'external_ids': {'isrc': 'GBUM70909075'}, 'external_urls': {'spotify': 'https://open.spotify.com/track/33e9HtOfO1ye1h8xQ7Foc9'}, 'href': 'https://api.spotify.com/v1/tracks/33e9HtOfO1ye1h8xQ7Foc9', 'id': '33e9HtOfO1ye1h8xQ7Foc9', 'is_local': False, 'name': 'The Cave', 'popularity': 0, 'preview_url': None, 'track_number': 2, 'type': 'track', 'uri': 'spotify:track:33e9HtOfO1ye1h8xQ7Foc9'}, {'album': {'album_type': 'COMPILATION', 'artists': [{'external_urls': {'spotify': 'https://open.spotify.com/artist/0LyfQWJT6nXafLPZqxe9Of'}, 'href': 'https://api.spotify.com/v1/artists/0LyfQWJT6nXafLPZqxe9Of', 'id': '0LyfQWJT6nXafLPZqxe9Of', 'name': 'Various Artists', 'type': 'artist', 'uri': 'spotify:artist:0LyfQWJT6nXafLPZqxe9Of'}], 'available_markets': ['AD', 'AE', 'AG', 'AL', 'AM', 'AO', 'AR', 'AT', 'AU', 'AZ', 'BA', 'BB', 'BD', 'BE', 'BF', 'BG', 'BH', 'BI', 'BJ', 'BN', 'BO', 'BR', 'BS', 'BT', 'BW', 'BY', 'BZ', 'CA', 'CD', 'CG', 'CH', 'CI', 'CL', 'CM', 'CO', 'CR', 'CV', 'CY', 'CZ', 'DE', 'DJ', 'DK', 'DM', 'DO', 'DZ', 'EC', 'EE', 'EG', 'ES', 'FI', 'FJ', 'FM', 'FR', 'GA', 'GB', 'GD', 'GE', 'GH', 'GM', 'GN', 'GQ', 'GR', 'GT', 'GW', 'GY', 'HK', 'HN', 'HR', 'HT', 'HU', 'ID', 'IE', 'IL', 'IN', 'IQ', 'IS', 'IT', 'JM', 'JO', 'JP', 'KE', 'KG', 'KH', 'KI', 'KM', 'KN', 'KW', 'KZ', 'LA', 'LB', 'LC', 'LI', 'LK', 'LR', 'LS', 'LT', 'LU', 'LV', 'LY', 'MA', 'MC', 'MD', 'ME', 'MG', 'MH', 'MK', 'ML', 'MN', 'MO', 'MR', 'MT', 'MU', 'MV', 'MW', 'MX', 'MY', 'MZ', 'NA', 'NE', 'NG', 'NI', 'NL', 'NO', 'NP', 'NR', 'NZ', 'OM', 'PA', 'PE', 'PG', 'PH', 'PK', 'PL', 'PS', 'PT', 'PW', 'PY', 'QA', 'RO', 'RS', 'RU', 'RW', 'SA', 'SB', 'SC', 'SE', 'SG', 'SI', 'SK', 'SL', 'SM', 'SN', 'SR', 'ST', 'SV', 'SZ', 'TD', 'TG', 'TH', 'TJ', 'TL', 'TN', 'TO', 'TR', 'TT', 'TV', 'TW', 'TZ', 'UA', 'UG', 'US', 'UY', 'UZ', 'VC', 'VE', 'VN', 'VU', 'WS', 'XK', 'ZA', 'ZM', 'ZW'], 'external_urls': {'spotify': 'https://open.spotify.com/album/6v5e6P19VdYAy73GGjRDBV'}, 'href': 'https://api.spotify.com/v1/albums/6v5e6P19VdYAy73GGjRDBV', 'id': '6v5e6P19VdYAy73GGjRDBV', 'images': [{'height': 640, 'url': 'https://i.scdn.co/image/ab67616d0000b273084a21015876c1b086ea20ed', 'width': 640}, {'height': 300, 'url': 'https://i.scdn.co/image/ab67616d00001e02084a21015876c1b086ea20ed', 'width': 300}, {'height': 64, 'url': 'https://i.scdn.co/image/ab67616d00004851084a21015876c1b086ea20ed', 'width': 64}], 'name': 'Imperial Recordings Best Of', 'release_date': '2011-02-28', 'release_date_precision': 'day', 'total_tracks': 41, 'type': 'album', 'uri': 'spotify:album:6v5e6P19VdYAy73GGjRDBV'}, 'artists': [{'external_urls': {'spotify': 'https://open.spotify.com/artist/6xrCU6zdcSTsG2hLrojpmI'}, 'href': 'https://api.spotify.com/v1/artists/6xrCU6zdcSTsG2hLrojpmI', 'id': '6xrCU6zdcSTsG2hLrojpmI', 'name': 'José González', 'type': 'artist', 'uri': 'spotify:artist:6xrCU6zdcSTsG2hLrojpmI'}], 'available_markets': [], 'disc_number': 1, 'duration_ms': 200853, 'explicit': False, 'external_ids': {'isrc': 'SEVVX0700305'}, 'external_urls': {'spotify': 'https://open.spotify.com/track/1cTmlIavpTMpGewqlvddOI'}, 'href': 'https://api.spotify.com/v1/tracks/1cTmlIavpTMpGewqlvddOI', 'id': '1cTmlIavpTMpGewqlvddOI', 'is_local': False, 'name': 'Teardrop', 'popularity': 0, 'preview_url': None, 'track_number': 29, 'type': 'track', 'uri': 'spotify:track:1cTmlIavpTMpGewqlvddOI'}, {'album': {'album_type': 'ALBUM', 'artists': [{'external_urls': {'spotify': 'https://open.spotify.com/artist/29WzbAQtDnBJF09es0uddn'}, 'href': 'https://api.spotify.com/v1/artists/29WzbAQtDnBJF09es0uddn', 'id': '29WzbAQtDnBJF09es0uddn', 'name': 'Corinne Bailey Rae', 'type': 'artist', 'uri': 'spotify:artist:29WzbAQtDnBJF09es0uddn'}], 'available_markets': ['AD', 'AE', 'AG', 'AL', 'AM', 'AO', 'AR', 'AT', 'AU', 'AZ', 'BA', 'BB', 'BD', 'BE', 'BF', 'BG', 'BH', 'BI', 'BJ', 'BN', 'BO', 'BR', 'BS', 'BT', 'BW', 'BY', 'BZ', 'CA', 'CD', 'CG', 'CH', 'CI', 'CL', 'CM', 'CO', 'CR', 'CV', 'CW', 'CY', 'CZ', 'DE', 'DJ', 'DK', 'DM', 'DO', 'DZ', 'EC', 'EE', 'EG', 'ES', 'FI', 'FJ', 'FM', 'FR', 'GA', 'GB', 'GD', 'GE', 'GH', 'GM', 'GN', 'GQ', 'GR', 'GT', 'GW', 'GY', 'HK', 'HN', 'HR', 'HT', 'HU', 'ID', 'IE', 'IL', 'IN', 'IQ', 'IS', 'IT', 'JM', 'JO', 'JP', 'KE', 'KG', 'KH', 'KI', 'KM', 'KN', 'KR', 'KW', 'KZ', 'LA', 'LB', 'LC', 'LI', 'LK', 'LR', 'LS', 'LT', 'LU', 'LV', 'LY', 'MA', 'MC', 'MD', 'ME', 'MG', 'MH', 'MK', 'ML', 'MN', 'MO', 'MR', 'MT', 'MU', 'MV', 'MW', 'MX', 'MY', 'MZ', 'NA', 'NE', 'NG', 'NI', 'NL', 'NO', 'NP', 'NR', 'NZ', 'OM', 'PA', 'PE', 'PG', 'PH', 'PK', 'PL', 'PS', 'PT', 'PW', 'PY', 'QA', 'RO', 'RS', 'RU', 'RW', 'SA', 'SB', 'SC', 'SE', 'SG', 'SI', 'SK', 'SL', 'SM', 'SN', 'SR', 'ST', 'SV', 'SZ', 'TD', 'TG', 'TH', 'TJ', 'TL', 'TN', 'TO', 'TR', 'TT', 'TV', 'TW', 'TZ', 'UA', 'UG', 'US', 'UY', 'UZ', 'VC', 'VE', 'VN', 'VU', 'WS', 'XK', 'ZA', 'ZM', 'ZW'], 'external_urls': {'spotify': 'https://open.spotify.com/album/141Mp3P2VKHQMhtkW1DyQg'}, 'href': 'https://api.spotify.com/v1/albums/141Mp3P2VKHQMhtkW1DyQg', 'id': '141Mp3P2VKHQMhtkW1DyQg', 'images': [{'height': 640, 'url': 'https://i.scdn.co/image/ab67616d0000b2731ec9b096319afbcc2dca6879', 'width': 640}, {'height': 300, 'url': 'https://i.scdn.co/image/ab67616d00001e021ec9b096319afbcc2dca6879', 'width': 300}, {'height': 64, 'url': 'https://i.scdn.co/image/ab67616d000048511ec9b096319afbcc2dca6879', 'width': 64}], 'name': 'Corinne Bailey Rae', 'release_date': '2006-01-01', 'release_date_precision': 'day', 'total_tracks': 11, 'type': 'album', 'uri': 'spotify:album:141Mp3P2VKHQMhtkW1DyQg'}, 'artists': [{'external_urls': {'spotify': 'https://open.spotify.com/artist/29WzbAQtDnBJF09es0uddn'}, 'href': 'https://api.spotify.com/v1/artists/29WzbAQtDnBJF09es0uddn', 'id': '29WzbAQtDnBJF09es0uddn', 'name': 'Corinne Bailey Rae', 'type': 'artist', 'uri': 'spotify:artist:29WzbAQtDnBJF09es0uddn'}], 'available_markets': ['AD', 'AE', 'AG', 'AL', 'AM', 'AO', 'AR', 'AT', 'AU', 'AZ', 'BA', 'BB', 'BD', 'BE', 'BF', 'BG', 'BH', 'BI', 'BJ', 'BN', 'BO', 'BR', 'BS', 'BT', 'BW', 'BY', 'BZ', 'CA', 'CD', 'CG', 'CH', 'CI', 'CL', 'CM', 'CO', 'CR', 'CV', 'CW', 'CY', 'CZ', 'DE', 'DJ', 'DK', 'DM', 'DO', 'DZ', 'EC', 'EE', 'EG', 'ES', 'FI', 'FJ', 'FM', 'FR', 'GA', 'GB', 'GD', 'GE', 'GH', 'GM', 'GN', 'GQ', 'GR', 'GT', 'GW', 'GY', 'HK', 'HN', 'HR', 'HT', 'HU', 'ID', 'IE', 'IL', 'IN', 'IQ', 'IS', 'IT', 'JM', 'JO', 'JP', 'KE', 'KG', 'KH', 'KI', 'KM', 'KN', 'KR', 'KW', 'KZ', 'LA', 'LB', 'LC', 'LI', 'LK', 'LR', 'LS', 'LT', 'LU', 'LV', 'LY', 'MA', 'MC', 'MD', 'ME', 'MG', 'MH', 'MK', 'ML', 'MN', 'MO', 'MR', 'MT', 'MU', 'MV', 'MW', 'MX', 'MY', 'MZ', 'NA', 'NE', 'NG', 'NI', 'NL', 'NO', 'NP', 'NR', 'NZ', 'OM', 'PA', 'PE', 'PG', 'PH', 'PK', 'PL', 'PS', 'PT', 'PW', 'PY', 'QA', 'RO', 'RS', 'RU', 'RW', 'SA', 'SB', 'SC', 'SE', 'SG', 'SI', 'SK', 'SL', 'SM', 'SN', 'SR', 'ST', 'SV', 'SZ', 'TD', 'TG', 'TH', 'TJ', 'TL', 'TN', 'TO', 'TR', 'TT', 'TV', 'TW', 'TZ', 'UA', 'UG', 'US', 'UY', 'UZ', 'VC', 'VE', 'VN', 'VU', 'WS', 'XK', 'ZA', 'ZM', 'ZW'], 'disc_number': 1, 'duration_ms': 215360, 'explicit': False, 'external_ids': {'isrc': 'GBAYE0501671'}, 'external_urls': {'spotify': 'https://open.spotify.com/track/2nGFzvICaeEWjIrBrL2RAx'}, 'href': 'https://api.spotify.com/v1/tracks/2nGFzvICaeEWjIrBrL2RAx', 'id': '2nGFzvICaeEWjIrBrL2RAx', 'is_local': False, 'name': 'Put Your Records On', 'popularity': 81, 'preview_url': None, 'track_number': 3, 'type': 'track', 'uri': 'spotify:track:2nGFzvICaeEWjIrBrL2RAx'}, {'album': {'album_type': 'ALBUM', 'artists': [{'external_urls': {'spotify': 'https://open.spotify.com/artist/4phGZZrJZRo4ElhRtViYdl'}, 'href': 'https://api.spotify.com/v1/artists/4phGZZrJZRo4ElhRtViYdl', 'id': '4phGZZrJZRo4ElhRtViYdl', 'name': 'Jason Mraz', 'type': 'artist', 'uri': 'spotify:artist:4phGZZrJZRo4ElhRtViYdl'}], 'available_markets': ['AD', 'AE', 'AG', 'AL', 'AM', 'AO', 'AR', 'AT', 'AU', 'AZ', 'BA', 'BB', 'BD', 'BE', 'BF', 'BG', 'BH', 'BI', 'BJ', 'BN', 'BO', 'BR', 'BS', 'BW', 'BY', 'BZ', 'CA', 'CD', 'CG', 'CH', 'CI', 'CL', 'CM', 'CO', 'CR', 'CV', 'CW', 'CY', 'CZ', 'DE', 'DJ', 'DK', 'DM', 'DO', 'DZ', 'EC', 'EE', 'EG', 'ES', 'FI', 'FJ', 'FM', 'FR', 'GA', 'GB', 'GD', 'GH', 'GM', 'GN', 'GQ', 'GR', 'GT', 'GW', 'HK', 'HN', 'HR', 'HT', 'HU', 'ID', 'IE', 'IL', 'IN', 'IQ', 'IS', 'IT', 'JM', 'JO', 'JP', 'KE', 'KG', 'KH', 'KM', 'KN', 'KR', 'KW', 'KZ', 'LA', 'LB', 'LC', 'LI', 'LK', 'LR', 'LS', 'LT', 'LU', 'LV', 'LY', 'MA', 'MC', 'MD', 'ME', 'MG', 'MK', 'ML', 'MN', 'MO', 'MR', 'MT', 'MU', 'MW', 'MX', 'MY', 'MZ', 'NA', 'NE', 'NG', 'NI', 'NL', 'NO', 'NP', 'NZ', 'OM', 'PA', 'PE', 'PG', 'PH', 'PK', 'PL', 'PS', 'PT', 'PY', 'QA', 'RO', 'RS', 'RU', 'RW', 'SA', 'SC', 'SE', 'SG', 'SI', 'SK', 'SL', 'SM', 'SN', 'ST', 'SV', 'SZ', 'TD', 'TG', 'TH', 'TJ', 'TL', 'TN', 'TR', 'TT', 'TW', 'TZ', 'UA', 'UG', 'US', 'UY', 'UZ', 'VC', 'VE', 'VN', 'XK', 'ZA', 'ZM', 'ZW'], 'external_urls': {'spotify': 'https://open.spotify.com/album/22MrOvzmcn6WeE4v6Ua6dj'}, 'href': 'https://api.spotify.com/v1/albums/22MrOvzmcn6WeE4v6Ua6dj', 'id': '22MrOvzmcn6WeE4v6Ua6dj', 'images': [{'height': 640, 'url': 'https://i.scdn.co/image/ab67616d0000b27371a0388dddc2aef9b1d66765', 'width': 640}, {'height': 300, 'url': 'https://i.scdn.co/image/ab67616d00001e0271a0388dddc2aef9b1d66765', 'width': 300}, {'height': 64, 'url': 'https://i.scdn.co/image/ab67616d0000485171a0388dddc2aef9b1d66765', 'width': 64}], 'name': 'Spotify Sessions', 'release_date': '2014-09-16', 'release_date_precision': 'day', 'total_tracks': 6, 'type': 'album', 'uri': 'spotify:album:22MrOvzmcn6WeE4v6Ua6dj'}, 'artists': [{'external_urls': {'spotify': 'https://open.spotify.com/artist/4phGZZrJZRo4ElhRtViYdl'}, 'href': 'https://api.spotify.com/v1/artists/4phGZZrJZRo4ElhRtViYdl', 'id': '4phGZZrJZRo4ElhRtViYdl', 'name': 'Jason Mraz', 'type': 'artist', 'uri': 'spotify:artist:4phGZZrJZRo4ElhRtViYdl'}], 'available_markets': ['AD', 'AE', 'AG', 'AL', 'AM', 'AO', 'AR', 'AT', 'AU', 'AZ', 'BA', 'BB', 'BD', 'BE', 'BF', 'BG', 'BH', 'BI', 'BJ', 'BN', 'BO', 'BR', 'BS', 'BW', 'BY', 'BZ', 'CA', 'CD', 'CG', 'CH', 'CI', 'CL', 'CM', 'CO', 'CR', 'CV', 'CW', 'CY', 'CZ', 'DE', 'DJ', 'DK', 'DM', 'DO', 'DZ', 'EC', 'EE', 'EG', 'ES', 'FI', 'FJ', 'FM', 'FR', 'GA', 'GB', 'GD', 'GH', 'GM', 'GN', 'GQ', 'GR', 'GT', 'GW', 'HK', 'HN', 'HR', 'HT', 'HU', 'ID', 'IE', 'IL', 'IN', 'IQ', 'IS', 'IT', 'JM', 'JO', 'JP', 'KE', 'KG', 'KH', 'KM', 'KN', 'KR', 'KW', 'KZ', 'LA', 'LB', 'LC', 'LI', 'LK', 'LR', 'LS', 'LT', 'LU', 'LV', 'LY', 'MA', 'MC', 'MD', 'ME', 'MG', 'MK', 'ML', 'MN', 'MO', 'MR', 'MT', 'MU', 'MW', 'MX', 'MY', 'MZ', 'NA', 'NE', 'NG', 'NI', 'NL', 'NO', 'NP', 'NZ', 'OM', 'PA', 'PE', 'PG', 'PH', 'PK', 'PL', 'PS', 'PT', 'PY', 'QA', 'RO', 'RS', 'RU', 'RW', 'SA', 'SC', 'SE', 'SG', 'SI', 'SK', 'SL', 'SM', 'SN', 'ST', 'SV', 'SZ', 'TD', 'TG', 'TH', 'TJ', 'TL', 'TN', 'TR', 'TT', 'TW', 'TZ', 'UA', 'UG', 'US', 'UY', 'UZ', 'VC', 'VE', 'VN', 'XK', 'ZA', 'ZM', 'ZW'], 'disc_number': 1, 'duration_ms': 243941, 'explicit': False, 'external_ids': {'isrc': 'USEE11400815'}, 'external_urls': {'spotify': 'https://open.spotify.com/track/1j5cGcXWdHKTPQ2XgXODJI'}, 'href': 'https://api.spotify.com/v1/tracks/1j5cGcXWdHKTPQ2XgXODJI', 'id': '1j5cGcXWdHKTPQ2XgXODJI', 'is_local': False, 'name': \"I'm Yours - Live on HSN Live\", 'popularity': 60, 'preview_url': 'https://p.scdn.co/mp3-preview/9204645792ba99b598dc8c616661b1af2c7c09fe?cid=5b12725d46944b58902380a594fcb6bb', 'track_number': 6, 'type': 'track', 'uri': 'spotify:track:1j5cGcXWdHKTPQ2XgXODJI'}], 'seeds': [{'initialPoolSize': 1002, 'afterFilteringSize': 1002, 'afterRelinkingSize': 1002, 'id': 'acoustic', 'type': 'GENRE', 'href': None}]}\n"
     ]
    }
   ],
   "source": [
    "track_dict = {}\n",
    "for genre in genres[\"genres\"][:1]:\n",
    "    recs = sp.recommendations(seed_genres=[genre])\n",
    "    print(recs)"
   ]
  },
  {
   "cell_type": "code",
   "execution_count": 36,
   "metadata": {},
   "outputs": [
    {
     "data": {
      "text/plain": [
       "'Hey There Delilah'"
      ]
     },
     "execution_count": 36,
     "metadata": {},
     "output_type": "execute_result"
    }
   ],
   "source": [
    "recs['tracks'][1]['name']"
   ]
  },
  {
   "cell_type": "code",
   "execution_count": 37,
   "metadata": {},
   "outputs": [
    {
     "data": {
      "text/plain": [
       "{'album': {'album_type': 'SINGLE',\n",
       "  'artists': [{'external_urls': {'spotify': 'https://open.spotify.com/artist/1g1yxsNVPhMUl9GrMjEb2o'},\n",
       "    'href': 'https://api.spotify.com/v1/artists/1g1yxsNVPhMUl9GrMjEb2o',\n",
       "    'id': '1g1yxsNVPhMUl9GrMjEb2o',\n",
       "    'name': \"Plain White T's\",\n",
       "    'type': 'artist',\n",
       "    'uri': 'spotify:artist:1g1yxsNVPhMUl9GrMjEb2o'}],\n",
       "  'available_markets': [],\n",
       "  'external_urls': {'spotify': 'https://open.spotify.com/album/56YDXVawuST4GQEnEfd16r'},\n",
       "  'href': 'https://api.spotify.com/v1/albums/56YDXVawuST4GQEnEfd16r',\n",
       "  'id': '56YDXVawuST4GQEnEfd16r',\n",
       "  'images': [{'height': 640,\n",
       "    'url': 'https://i.scdn.co/image/ab67616d0000b2732254fbe6014d8e6298b432a1',\n",
       "    'width': 640},\n",
       "   {'height': 300,\n",
       "    'url': 'https://i.scdn.co/image/ab67616d00001e022254fbe6014d8e6298b432a1',\n",
       "    'width': 300},\n",
       "   {'height': 64,\n",
       "    'url': 'https://i.scdn.co/image/ab67616d000048512254fbe6014d8e6298b432a1',\n",
       "    'width': 64}],\n",
       "  'name': 'Hey There Delilah',\n",
       "  'release_date': '2007-01-01',\n",
       "  'release_date_precision': 'day',\n",
       "  'total_tracks': 4,\n",
       "  'type': 'album',\n",
       "  'uri': 'spotify:album:56YDXVawuST4GQEnEfd16r'},\n",
       " 'artists': [{'external_urls': {'spotify': 'https://open.spotify.com/artist/1g1yxsNVPhMUl9GrMjEb2o'},\n",
       "   'href': 'https://api.spotify.com/v1/artists/1g1yxsNVPhMUl9GrMjEb2o',\n",
       "   'id': '1g1yxsNVPhMUl9GrMjEb2o',\n",
       "   'name': \"Plain White T's\",\n",
       "   'type': 'artist',\n",
       "   'uri': 'spotify:artist:1g1yxsNVPhMUl9GrMjEb2o'}],\n",
       " 'available_markets': [],\n",
       " 'disc_number': 1,\n",
       " 'duration_ms': 233626,\n",
       " 'explicit': False,\n",
       " 'external_ids': {'isrc': 'USHR10722838'},\n",
       " 'external_urls': {'spotify': 'https://open.spotify.com/track/7z7fquRFQFXt4Dj7ouWETq'},\n",
       " 'href': 'https://api.spotify.com/v1/tracks/7z7fquRFQFXt4Dj7ouWETq',\n",
       " 'id': '7z7fquRFQFXt4Dj7ouWETq',\n",
       " 'is_local': False,\n",
       " 'name': 'Hey There Delilah',\n",
       " 'popularity': 0,\n",
       " 'preview_url': None,\n",
       " 'track_number': 2,\n",
       " 'type': 'track',\n",
       " 'uri': 'spotify:track:7z7fquRFQFXt4Dj7ouWETq'}"
      ]
     },
     "execution_count": 37,
     "metadata": {},
     "output_type": "execute_result"
    }
   ],
   "source": [
    "recs['tracks'][1]"
   ]
  }
 ],
 "metadata": {
  "kernelspec": {
   "display_name": "Python 3",
   "language": "python",
   "name": "python3"
  },
  "language_info": {
   "codemirror_mode": {
    "name": "ipython",
    "version": 3
   },
   "file_extension": ".py",
   "mimetype": "text/x-python",
   "name": "python",
   "nbconvert_exporter": "python",
   "pygments_lexer": "ipython3",
   "version": "3.8.5"
  }
 },
 "nbformat": 4,
 "nbformat_minor": 4
}
